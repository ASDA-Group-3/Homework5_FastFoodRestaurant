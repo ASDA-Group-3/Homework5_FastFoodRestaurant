{
 "cells": [
  {
   "cell_type": "markdown",
   "metadata": {},
   "source": [
    "# Homework Exercise Fast Food \n",
    "\n",
    "Task: \n",
    "A fast food chain plans to add a new item to its menu. However, they are still undecided between three possible marketing campaigns for promoting the new product. In order to determine which promotion has the greatest effect on sales, the new item is introduced at locations in several randomly selected markets. A different promotion is used at each location, and the weekly sales of the new item are recorded for the first four weeks.\n",
    "\n",
    "MarketID: unique identifier for market\n",
    "MarketSize: size of market area by sales\n",
    "LocationID: unique identifier for store location\n",
    "AgeOfStore: age of store in years\n",
    "Promotion: one of three promotions that were tested\n",
    "week: one of four weeks when the promotions were run\n",
    "SalesInThousands: sales amount for a specific LocationID, Promotion, and week\n",
    "\n",
    "Your goal is to analyze the sales data to evaluate the performance of the promotions and provide insights into how other factors influence sales. Beware, someone from the data engineering team messed up and the data is a bit dirty.\n"
   ]
  },
  {
   "cell_type": "markdown",
   "metadata": {},
   "source": [
    "## 1. Import Data and inspect for errors"
   ]
  },
  {
   "cell_type": "markdown",
   "metadata": {},
   "source": [
    "1.1 Import data and save it into a excel file"
   ]
  },
  {
   "cell_type": "code",
   "execution_count": 3,
   "metadata": {},
   "outputs": [
    {
     "name": "stdout",
     "output_type": "stream",
     "text": [
      "Excel file downloaded successfully!\n"
     ]
    }
   ],
   "source": [
    "import requests\n",
    "\n",
    "# Google Sheet ID \n",
    "sheet_id = \"16BVW1O-BigWJLh6YNEVqNmIcIOn-loWZDHxw8F0wI40\"\n",
    "\n",
    "# Create the export URL for the Google Sheet\n",
    "url = f\"https://docs.google.com/spreadsheets/d/{sheet_id}/export?format=xlsx\"\n",
    "\n",
    "# Send GET request to fetch the file\n",
    "response = requests.get(url)\n",
    "\n",
    "# Save the content to an Excel file\n",
    "with open(\"google_sheet_data.xlsx\", \"wb\") as file:\n",
    "    file.write(response.content)\n",
    "\n",
    "print(\"Excel file downloaded successfully!\")"
   ]
  },
  {
   "cell_type": "markdown",
   "metadata": {},
   "source": [
    "1.2 Inspect the data "
   ]
  },
  {
   "cell_type": "code",
   "execution_count": 4,
   "metadata": {},
   "outputs": [
    {
     "name": "stdout",
     "output_type": "stream",
     "text": [
      "   MarketID MarketSize LocationID  AgeOfStore  Promotion week SalesInThousands\n",
      "0         1     Medium          1           4          3    1            33.73\n",
      "1         1     Medium          1           4          3    2            35.67\n",
      "2         1     Medium          1           4          3    3            29.03\n",
      "3         1     Medium          1           4          3    4            39.25\n",
      "4         1     Medium          2           5          2    1            27.81\n",
      "<class 'pandas.core.frame.DataFrame'>\n",
      "RangeIndex: 548 entries, 0 to 547\n",
      "Data columns (total 7 columns):\n",
      " #   Column            Non-Null Count  Dtype \n",
      "---  ------            --------------  ----- \n",
      " 0   MarketID          548 non-null    int64 \n",
      " 1   MarketSize        548 non-null    object\n",
      " 2   LocationID        548 non-null    object\n",
      " 3   AgeOfStore        548 non-null    int64 \n",
      " 4   Promotion         548 non-null    int64 \n",
      " 5   week              548 non-null    object\n",
      " 6   SalesInThousands  548 non-null    object\n",
      "dtypes: int64(3), object(4)\n",
      "memory usage: 30.1+ KB\n",
      "None\n"
     ]
    }
   ],
   "source": [
    "import pandas as pd\n",
    "\n",
    "# Read the Excel file into a DataFrame\n",
    "df = pd.read_excel(\"google_sheet_data.xlsx\")\n",
    "\n",
    "# Display the data\n",
    "print(df.head())\n",
    "print(df.info())"
   ]
  },
  {
   "cell_type": "markdown",
   "metadata": {},
   "source": [
    "1.3 Find erros within the data"
   ]
  },
  {
   "cell_type": "code",
   "execution_count": 5,
   "metadata": {},
   "outputs": [
    {
     "name": "stdout",
     "output_type": "stream",
     "text": [
      "\n",
      "Missing Values:\n",
      "MarketID            0\n",
      "MarketSize          0\n",
      "LocationID          0\n",
      "AgeOfStore          0\n",
      "Promotion           0\n",
      "week                0\n",
      "SalesInThousands    0\n",
      "dtype: int64\n",
      "\n",
      "Duplicate Rows:\n",
      "Number of duplicates: 0\n",
      "\n",
      "Validating Categorical Columns...\n",
      "Unique values in MarketID: [ 1  2  3  4  5  6  7  8  9 10]\n",
      "Unique values in MarketSize: ['Medium' 'MEDIUM' 'Small' 'SMALL' 'Large' ' small' 'Smalll' 'Small_'\n",
      " ' Medium' '  Large']\n",
      "Unique values in LocationID: [1 2 3 4 5 6 7 8 9 10 11 12 13 101 102 103 104 105 106 201 202 203 204\n",
      " '2O4' 205 206 207 208 209 210 211 212 213 214 215 216 217 218 219 220 221\n",
      " 222 301 302 303 304 305 306 '3O7' 307 308 309 401 402 403 404 405 406 407\n",
      " 408 409 410 411 412 413 414 415 501 502 503 504 505 506 507 508 509 510\n",
      " '51l' 511 512 513 514 515 601 602 603 604 605 606 607 608 609 610 611 612\n",
      " 613 614 615 701 702 703 704 705 706 707 708 709 710 711 712 801 802 803\n",
      " 804 805 806 807 808 809 810 901 902 903 904 905 906 907 908 909 910 911\n",
      " 912 913 914 915 916 917 918 919 920]\n",
      "Unique values in AgeOfStore: [ 4  5 12  1 10 15  6 22  8 19 11 13  3  7  2 23  9 28 25 14 24 18 27 17\n",
      " 20]\n",
      "Unique values in Promotion: [3 2 1]\n",
      "Unique values in week: [1 2 3 4 'three' 'one' 2000 4000000]\n",
      "Unique values in SalesInThousands: [33.73 35.67 29.03 39.25 27.81 34.67 27.98 27.72 44.54 37.94 45.49 34.75\n",
      " 39.28 39.8 24.77 30.98 30.37 24.82 37.47 23.35 32.9 22.18 42.98 26.68\n",
      " 42.92 42.16 51.72 36.17 30.08 28.62 25.4 27.26 37.41 38.64 40.9 41.11\n",
      " 34.27 29.3 23.93 35.16 33.42 37.93 33.85 40.25 35.85 36.24 41.73 37.32\n",
      " 50.48 36.88 35.68 46.45 67.48 65.57 '68,42' 60.93 61.59 63.64 54.68 61.24\n",
      " 62.93 58.77 70.6 65.06 59.76 66.11 62.16 64.04 59.65 57.04 59.73 56.72\n",
      " 58.55 62.19 53.14 62.27 86.14 82.56 79.36 '77,17' 88.73 85.21 81.55 94.17\n",
      " 89.7 78.43 84.05 81.18 87.43 81.79 88.12 75.29 83.02 90.3 85.18 89.77\n",
      " 82.64 82.89 82.13 88.91 87.7 81.16 81.58 94.21 96.48 84.13 91.98 81.72\n",
      " 93.71 96.01 93.03 97.61 85.11 88.07 94.43 89.44 88.64 81.37 82.14 79.64\n",
      " 84.34 87.9 76.12 82.72 73.22 75.88 78.01 80.17 91.6 80.61 93.86 83.43\n",
      " 82.65 77.39 80.83 80.75 94.89 74.75 93.63 80.82 91.61 79.02 86.11 82.88\n",
      " 99.65 86.96 89.25 66.22 82.86 83.4 75.61 87.08 89.32 99.12 85.85 79.53\n",
      " 74.03 78.53 76.71 93.32 85.71 77.36 91.29 49.61 43.69 54.49 61.25 51.47\n",
      " 53.47 46.83 56.7 55.94 61.36 56.19 62.06 54.01 63.48 61.96 55.3 47.89\n",
      " 52.37 49.11 52.88 53.79 66.96 57.1 65.12 46.98 53.41 55.98 51.87 58.01\n",
      " 47.93 51.33 54.06 59.64 52.23 51.68 46.22 46.03 404 50.28 52.72 38.3\n",
      " 51.79 42.56 44.64 45.11 42.15 42.59 49.56 48.18 48.25 46.42 43.77 45.3\n",
      " 48.84 45.08 44.67 45.56 55.19 37.84 50.07 47.33 45.42 44.31 40.26 43.27\n",
      " 48.33 44.14 51.5 49.95 55.11 55.28 54.7 50.11 55.59 54.37 51.91 59.34\n",
      " 6263 49.08 58.04 46.26 47.71 54.09 46.89 57.37 55.53 51.16 57.06 50.59\n",
      " 48.64 50.55 24.75 41.47 35.1 34.33 31.94 29.64 33.64 36.05 36.7 41.53\n",
      " 27.71 37.2 36.8 47.35 32.21 38.41 37.9 44.84 37.45 35.46 31.85 19.26\n",
      " 38.65 17.34 33.14 23.44 37.17 30.52 32.51 29.12 40.46 41.25 32.05 47.5\n",
      " 32.77 30.26 27.55 27.37 47.48 39.41 43.29 35.3 35.86 49.3 30.81 44.98\n",
      " 41.71 41.1 40.97 41.56 36.39 39.67 34.46 40.13 32.18 43.73 49.01 46.29\n",
      " 37.14 42.82 47.22 35.24 43.15 40.71 38.26 41.44 25.7 40.29 48.35 43.26\n",
      " 44.2 46.14 41.12 45.03 38.85 41.96 42.27 38.51 43.51 49.39 42.46 31.62\n",
      " 53.38 55.31 56.1 43.24 43.11 43.78 56.9 53.53 47.92 56.18 46.66 40.43\n",
      " 51.15 42.5 52.76 47.63 52.21 40.17 48.36 42.76 50.52 56.86 47.51 38.56\n",
      " 37.29 35.6 33.35 48.5 48.32 41.54 53.56 49.72 48.77 46.84 51.82 45.02\n",
      " 49.44 51.32 52.85 40.84 64.45 44.43 56.64 46.06 55.46 51.41 49.67 49.98\n",
      " 49.5 50.26 52.05 51.14 46.3 56.99 45.57 45.92 32.61 57.27 41.22 39.73\n",
      " 50.3 40.16 41.37 54.79 52.39 49.63 54.95 55.78 46.49 56.84 48.06 51.09\n",
      " 44.19 49.52 65.11 54.38 57.14 49.91 48.76 58.1 44.16 44.66 53.78 43.91\n",
      " 52.41 50.54 58.43 59.77 60.44 50.94 49.38 63.98 45.84 51.01 56.16 45.77\n",
      " 46.47 46.02 55.91 55.9 59.8 60.97 64.14 39.98 54.58 52.64 45.43 61.8 58\n",
      " 55.2 53.76 39.36 47.2 53.66 61.53 59.17 63.73 61.77 51.89 51.17 54.33\n",
      " 50.05 54.82 53.95 54.34 60.24 56.39 58.33 51.26 51.73 51.35 41.85 45.21\n",
      " 55.02 45.35 47.06 43.59 58.19 62.72 66.66 64.66 66.34 60.59 61.95 67.84\n",
      " 55.39 49.16 58.26 48.12 55.12 47.36 62.33 53.68 62.37 63.58 44.7 43.44\n",
      " 52.36 45.9 53.51 49.76 68.31 66.1 43.61 46.2 51.52 49.71 53.5 56.34 51.83\n",
      " 50.2 49.62 62.54 61.63 59.87 62.99 57.2 64.34 45.75 44.29 49.41]\n"
     ]
    }
   ],
   "source": [
    "# Check for Missing Data\n",
    "print(\"\\nMissing Values:\")\n",
    "print(df.isnull().sum())\n",
    "\n",
    "# Check for Duplicates\n",
    "print(\"\\nDuplicate Rows:\")\n",
    "duplicates = df.duplicated()\n",
    "print(f\"Number of duplicates: {duplicates.sum()}\")\n",
    "\n",
    "# Remove duplicates if needed\n",
    "if duplicates.sum() > 0:\n",
    "    df = df.drop_duplicates()\n",
    "    print(\"Duplicates removed.\")\n",
    "\n",
    "# Validate Categorical Variables\n",
    "print(\"\\nValidating Categorical Columns...\")\n",
    "\n",
    "# Check for unique values in categorical columns\n",
    "categorical_columns = [\"MarketID\", \"MarketSize\", \"LocationID\", \"AgeOfStore\", \"Promotion\", \"week\", \"SalesInThousands\" ]\n",
    "for col in categorical_columns:\n",
    "    if col in df.columns:\n",
    "        print(f\"Unique values in {col}: {df[col].unique()}\")"
   ]
  },
  {
   "cell_type": "code",
   "execution_count": 6,
   "metadata": {},
   "outputs": [
    {
     "name": "stdout",
     "output_type": "stream",
     "text": [
      "Checking MarketSize ...\n",
      "Invalid MarketSize entries: {'  Large', 'Small_', 'Smalll', 'MEDIUM', ' Medium', ' small', 'SMALL'}\n",
      "All Promotion entries are valid\n",
      "Invalid week entries: {4000000, 'three', 'one', 2000}\n",
      "Expected datatype for 'LocationID': <class 'int'>\n",
      "\n",
      "Inconsistent datatypes found:\n",
      "\n",
      "Row 91:\n",
      "LocationID: 2O4 (Type: <class 'str'>)\n",
      "\n",
      "Row 188:\n",
      "LocationID: 3O7 (Type: <class 'str'>)\n",
      "\n",
      "Row 300:\n",
      "LocationID: 51l (Type: <class 'str'>)\n",
      "Expected datatype for 'AgeOfStore': <class 'int'>\n",
      "All AgeOfStore values have consistent datatypes and are positive integers.\n",
      "Expected datatype for 'SalesInThousands': <class 'float'>\n",
      "\n",
      "Inconsistent datatypes or negative values found in 'SalesInThousands':\n",
      "\n",
      "Row 54:\n",
      "SalesInThousands: 68,42 (Type: <class 'str'>, Value: 68,42)\n",
      "\n",
      "Row 79:\n",
      "SalesInThousands: 77,17 (Type: <class 'str'>, Value: 77,17)\n"
     ]
    }
   ],
   "source": [
    "# Identify typos or inconsistent data\n",
    "\n",
    "# MarketSize should be ['Small', 'Medium', 'Large']\n",
    "print(\"Checking MarketSize ...\")\n",
    "expected_market_sizes = {\"Small\", \"Medium\", \"Large\"}\n",
    "actual_market_sizes = set(df[\"MarketSize\"].unique())\n",
    "invalid_market_sizes = actual_market_sizes - expected_market_sizes\n",
    "if invalid_market_sizes:\n",
    "    print(f\"Invalid MarketSize entries: {invalid_market_sizes}\")\n",
    "\n",
    "# Promotion should be 1, 2, or 3\n",
    "expected_promotions = {1, 2, 3}\n",
    "actual_promotions = set(df[\"Promotion\"].unique())\n",
    "invalid_promotions = actual_promotions - expected_promotions\n",
    "if invalid_promotions:\n",
    "    print(f\"Invalid Promotion entries: {invalid_promotions}\")\n",
    "else: \n",
    "    print(\"All Promotion entries are valid\")\n",
    "\n",
    "# Week should be 1, 2, 3 or 4\n",
    "expected_weeks = {1, 2, 3, 4}\n",
    "actual_weeks = set(df[\"week\"].unique())\n",
    "invalid_weeks = actual_weeks - expected_weeks\n",
    "if invalid_weeks:\n",
    "    print(f\"Invalid week entries: {invalid_weeks}\")\n",
    "else: \n",
    "    print(\"All Weeks entries are valid\")   \n",
    "\n",
    "# Check if every entry in the 'LocationID' column has the same datatype\n",
    "expected_dtype = df['LocationID'].apply(type).iloc[0]  # Get the type of the first element\n",
    "print(f\"Expected datatype for 'LocationID': {expected_dtype}\")\n",
    "\n",
    "# Find rows with inconsistent datatypes\n",
    "inconsistent_rows = df[~df['LocationID'].apply(type).eq(expected_dtype)]\n",
    "\n",
    "# Print inconsistent rows if any\n",
    "if not inconsistent_rows.empty:\n",
    "    print(\"\\nInconsistent datatypes found:\")\n",
    "    for index, row in inconsistent_rows.iterrows():\n",
    "        print(f\"\\nRow {index}:\")\n",
    "        print(f\"LocationID: {row['LocationID']} (Type: {type(row['LocationID'])})\")\n",
    "else:\n",
    "    print(\"All LocationID values have consistent datatypes.\") \n",
    "\n",
    "\n",
    "# Check if every entry in the 'AgeOfStore' column has the same datatype and is positive\n",
    "expected_dtype_age = df['AgeOfStore'].apply(type).iloc[0]  # Get the type of the first element\n",
    "print(f\"Expected datatype for 'AgeOfStore': {expected_dtype_age}\")\n",
    "\n",
    "# Find rows with inconsistent datatypes or negative values\n",
    "inconsistent_age_rows = df[~df['AgeOfStore'].apply(lambda x: isinstance(x, int) and x >= 0)]\n",
    "\n",
    "# Print inconsistent rows if any\n",
    "if not inconsistent_age_rows.empty:\n",
    "    print(\"\\nInconsistent datatypes or negative values found:\")\n",
    "    for index, row in inconsistent_rows.iterrows():\n",
    "        print(f\"\\nRow {index}:\")\n",
    "        print(f\"AgeOfStore: {row['AgeOfStore']} (Type: {type(row['AgeOfStore'])}, Value: {row['AgeOfStore']})\")\n",
    "else:\n",
    "    print(\"All AgeOfStore values have consistent datatypes and are positive integers.\")\n",
    "\n",
    "# Check if every entry in the 'SalesInThousands' column is a valid number and is non-negative\n",
    "expected_dtype = df['SalesInThousands'].apply(type).iloc[0]  # Get the type of the first element\n",
    "print(f\"Expected datatype for 'SalesInThousands': {expected_dtype}\")\n",
    "\n",
    "# Find rows with inconsistent datatypes or negative values in 'SalesInThousands'\n",
    "inconsistent_sales = df[~df['SalesInThousands'].apply(lambda x: isinstance(x, (int, float)) and x >= 0)]\n",
    "\n",
    "# Print inconsistent rows if any\n",
    "if not inconsistent_sales.empty:\n",
    "    print(\"\\nInconsistent datatypes or negative values found in 'SalesInThousands':\")\n",
    "    for index, row in inconsistent_sales.iterrows():\n",
    "        print(f\"\\nRow {index}:\")\n",
    "        print(f\"SalesInThousands: {row['SalesInThousands']} (Type: {type(row['SalesInThousands'])}, Value: {row['SalesInThousands']})\")\n",
    "else:\n",
    "    print(\"All SalesInThousands values have consistent datatypes and are non-negative.\")\n"
   ]
  },
  {
   "cell_type": "markdown",
   "metadata": {},
   "source": [
    "## 2. Clean the data"
   ]
  },
  {
   "cell_type": "markdown",
   "metadata": {},
   "source": [
    "2.1 Function to display the unique values of a column "
   ]
  },
  {
   "cell_type": "code",
   "execution_count": 7,
   "metadata": {},
   "outputs": [],
   "source": [
    "# Find unique values and their corresponding rows\n",
    "def find_unique_values(column_name):\n",
    "    unique_values = df[column_name].unique()\n",
    "\n",
    "# Loop through each unique value and find its row indices\n",
    "    for value in unique_values:\n",
    "        rows = df.index[df[column_name] == value].tolist()\n",
    "        print(f\"Value: {value}, Rows: {rows}\")"
   ]
  },
  {
   "cell_type": "markdown",
   "metadata": {},
   "source": [
    "2.2 Clean \"MarekSize\" - correct the misspelled values "
   ]
  },
  {
   "cell_type": "code",
   "execution_count": 8,
   "metadata": {},
   "outputs": [
    {
     "name": "stdout",
     "output_type": "stream",
     "text": [
      "Value: medium, Rows: [0, 1, 2, 3, 4, 5, 6, 7, 8, 9, 10, 11, 12, 13, 14, 15, 16, 17, 18, 19, 20, 21, 22, 23, 24, 25, 26, 27, 28, 29, 30, 31, 32, 33, 34, 35, 36, 37, 38, 39, 40, 41, 42, 43, 44, 45, 46, 47, 48, 49, 50, 51, 200, 201, 202, 203, 204, 205, 206, 207, 208, 209, 210, 211, 212, 213, 214, 215, 216, 217, 218, 219, 220, 221, 222, 223, 224, 225, 226, 227, 228, 229, 230, 231, 232, 233, 234, 235, 236, 237, 238, 239, 240, 241, 242, 243, 244, 245, 246, 247, 248, 249, 250, 251, 252, 253, 254, 255, 256, 257, 258, 259, 260, 261, 262, 263, 264, 265, 266, 267, 268, 269, 270, 271, 272, 273, 274, 275, 276, 277, 278, 279, 280, 281, 282, 283, 284, 285, 286, 287, 288, 289, 290, 291, 292, 293, 294, 295, 296, 297, 298, 299, 300, 301, 302, 303, 304, 305, 306, 307, 308, 309, 310, 311, 312, 313, 314, 315, 316, 317, 318, 319, 320, 321, 322, 323, 324, 325, 326, 327, 328, 329, 330, 331, 332, 333, 334, 335, 336, 337, 338, 339, 340, 341, 342, 343, 344, 345, 346, 347, 348, 349, 350, 351, 352, 353, 354, 355, 356, 357, 358, 359, 360, 361, 362, 363, 364, 365, 366, 367, 368, 369, 370, 371, 372, 373, 374, 375, 376, 377, 378, 379, 380, 381, 382, 383, 384, 385, 386, 387, 388, 389, 390, 391, 392, 393, 394, 395, 396, 397, 398, 399, 400, 401, 402, 403, 404, 405, 406, 407, 408, 409, 410, 411, 412, 413, 414, 415, 416, 417, 418, 419, 420, 421, 422, 423, 424, 425, 426, 427, 428, 429, 430, 431, 432, 433, 434, 435, 436, 437, 438, 439, 440, 441, 442, 443, 444, 445, 446, 447, 448, 449, 450, 451, 452, 453, 454, 455, 456, 457, 458, 459, 460, 461, 462, 463, 464, 465, 466, 467]\n",
      "Value: small, Rows: [52, 53, 54, 55, 56, 57, 58, 59, 60, 61, 62, 63, 64, 65, 66, 67, 68, 69, 70, 71, 72, 73, 74, 75, 164, 165, 166, 167, 168, 169, 170, 171, 172, 173, 174, 175, 176, 177, 178, 179, 180, 181, 182, 183, 184, 185, 186, 187, 188, 189, 190, 191, 192, 193, 194, 195, 196, 197, 198, 199]\n",
      "Value: large, Rows: [76, 77, 78, 79, 80, 81, 82, 83, 84, 85, 86, 87, 88, 89, 90, 91, 92, 93, 94, 95, 96, 97, 98, 99, 100, 101, 102, 103, 104, 105, 106, 107, 108, 109, 110, 111, 112, 113, 114, 115, 116, 117, 118, 119, 120, 121, 122, 123, 124, 125, 126, 127, 128, 129, 130, 131, 132, 133, 134, 135, 136, 137, 138, 139, 140, 141, 142, 143, 144, 145, 146, 147, 148, 149, 150, 151, 152, 153, 154, 155, 156, 157, 158, 159, 160, 161, 162, 163, 468, 469, 470, 471, 472, 473, 474, 475, 476, 477, 478, 479, 480, 481, 482, 483, 484, 485, 486, 487, 488, 489, 490, 491, 492, 493, 494, 495, 496, 497, 498, 499, 500, 501, 502, 503, 504, 505, 506, 507, 508, 509, 510, 511, 512, 513, 514, 515, 516, 517, 518, 519, 520, 521, 522, 523, 524, 525, 526, 527, 528, 529, 530, 531, 532, 533, 534, 535, 536, 537, 538, 539, 540, 541, 542, 543, 544, 545, 546, 547]\n"
     ]
    }
   ],
   "source": [
    "# Clean \"MarketSize\"\n",
    "\n",
    "# Remove leading/trailing spaces and standardize values (e.g., lowercase)\n",
    "df['MarketSize'] = df['MarketSize'].str.strip().str.lower()\n",
    "\n",
    "# Replace specific values in the 'MarketSize' column\n",
    "df['MarketSize'] = df['MarketSize'].replace({'smalll': 'small', 'small_': 'small'})\n",
    "\n",
    "# Print the updated DataFrame\n",
    "find_unique_values('MarketSize')  "
   ]
  },
  {
   "cell_type": "markdown",
   "metadata": {},
   "source": [
    "2.3 Clean \"week\" - change words (str) to numbers and delete the zeros"
   ]
  },
  {
   "cell_type": "code",
   "execution_count": 9,
   "metadata": {},
   "outputs": [
    {
     "name": "stdout",
     "output_type": "stream",
     "text": [
      "Value: 1, Rows: [0, 4, 8, 12, 16, 20, 24, 28, 32, 36, 40, 44, 48, 52, 56, 60, 64, 68, 72, 76, 80, 84, 88, 92, 96, 100, 104, 108, 112, 116, 120, 124, 128, 132, 136, 140, 144, 148, 152, 156, 160, 164, 168, 172, 176, 180, 184, 188, 192, 196, 200, 204, 208, 212, 216, 220, 224, 228, 232, 236, 240, 244, 248, 252, 256, 260, 264, 268, 272, 276, 280, 284, 288, 292, 296, 300, 304, 308, 312, 316, 320, 324, 328, 332, 336, 340, 344, 348, 352, 356, 360, 364, 368, 372, 376, 380, 384, 388, 392, 396, 400, 404, 408, 412, 416, 420, 424, 428, 432, 436, 440, 444, 448, 452, 456, 460, 464, 468, 472, 476, 480, 484, 488, 492, 496, 500, 504, 508, 512, 516, 520, 524, 528, 532, 536, 540, 544]\n",
      "Value: 2, Rows: [1, 5, 9, 13, 17, 21, 25, 29, 33, 37, 41, 45, 49, 53, 57, 61, 65, 69, 73, 77, 81, 85, 89, 93, 97, 101, 105, 109, 113, 117, 121, 125, 129, 133, 137, 141, 145, 149, 153, 157, 161, 165, 169, 173, 177, 181, 185, 189, 193, 197, 201, 205, 209, 213, 217, 221, 225, 229, 233, 237, 241, 245, 249, 253, 257, 261, 265, 269, 273, 277, 281, 285, 289, 293, 297, 301, 305, 309, 313, 317, 321, 325, 329, 333, 337, 341, 345, 349, 353, 357, 361, 365, 369, 373, 377, 381, 385, 389, 393, 397, 401, 405, 409, 413, 417, 421, 425, 429, 433, 437, 441, 445, 449, 453, 457, 461, 465, 469, 473, 477, 481, 485, 489, 493, 497, 501, 505, 509, 513, 517, 521, 525, 529, 533, 537, 541, 545]\n",
      "Value: 3, Rows: [2, 6, 10, 14, 18, 22, 26, 30, 34, 38, 42, 46, 50, 54, 58, 62, 66, 70, 74, 78, 82, 86, 90, 94, 98, 102, 106, 110, 114, 118, 122, 126, 130, 134, 138, 142, 146, 150, 154, 158, 162, 166, 170, 174, 178, 182, 186, 190, 194, 198, 202, 206, 210, 214, 218, 222, 226, 230, 234, 238, 242, 246, 250, 254, 258, 262, 266, 270, 274, 278, 282, 286, 290, 294, 298, 302, 306, 310, 314, 318, 322, 326, 330, 334, 338, 342, 346, 350, 354, 358, 362, 366, 370, 374, 378, 382, 386, 390, 394, 398, 402, 406, 410, 414, 418, 422, 426, 430, 434, 438, 442, 446, 450, 454, 458, 462, 466, 470, 474, 478, 482, 486, 490, 494, 498, 502, 506, 510, 514, 518, 522, 526, 530, 534, 538, 542, 546]\n",
      "Value: 4, Rows: [3, 7, 11, 15, 19, 23, 27, 31, 35, 39, 43, 47, 51, 55, 59, 63, 67, 71, 75, 79, 83, 87, 91, 95, 99, 103, 107, 111, 115, 119, 123, 127, 131, 135, 139, 143, 147, 151, 155, 159, 163, 167, 171, 175, 179, 183, 187, 191, 195, 199, 203, 207, 211, 215, 219, 223, 227, 231, 235, 239, 243, 247, 251, 255, 259, 263, 267, 271, 275, 279, 283, 287, 291, 295, 299, 303, 307, 311, 315, 319, 323, 327, 331, 335, 339, 343, 347, 351, 355, 359, 363, 367, 371, 375, 379, 383, 387, 391, 395, 399, 403, 407, 411, 415, 419, 423, 427, 431, 435, 439, 443, 447, 451, 455, 459, 463, 467, 471, 475, 479, 483, 487, 491, 495, 499, 503, 507, 511, 515, 519, 523, 527, 531, 535, 539, 543, 547]\n"
     ]
    },
    {
     "name": "stderr",
     "output_type": "stream",

    }
   ],
   "source": [
    "# Clean \"week\"\n",
    "\n",
    "# Replace specific string values with integers\n",
    "df['week'] = df['week'].replace({'one': 1, 'three': 3})\n",
    "\n",
    "# Remove all zeros from numeric values in a column\n",
    "df['week'] = df['week'].astype(str).str.replace('0', '').astype(int)\n",
    "\n",
    "# Print the updated DataFrame\n",
    "find_unique_values('week')  "
   ]
  },
  {
   "cell_type": "markdown",
   "metadata": {},
   "source": [
    "2.4 Clean \"LocationID\" - chnage str to numbers"
   ]
  },
  {
   "cell_type": "code",
   "execution_count": 10,
   "metadata": {},
   "outputs": [
    {
     "name": "stdout",
     "output_type": "stream",
     "text": [
      "Value: 1, Rows: [0, 1, 2, 3]\n",
      "Value: 2, Rows: [4, 5, 6, 7]\n",
      "Value: 3, Rows: [8, 9, 10, 11]\n",
      "Value: 4, Rows: [12, 13, 14, 15]\n",
      "Value: 5, Rows: [16, 17, 18, 19]\n",
      "Value: 6, Rows: [20, 21, 22, 23]\n",
      "Value: 7, Rows: [24, 25, 26, 27]\n",
      "Value: 8, Rows: [28, 29, 30, 31]\n",
      "Value: 9, Rows: [32, 33, 34, 35]\n",
      "Value: 10, Rows: [36, 37, 38, 39]\n",
      "Value: 11, Rows: [40, 41, 42, 43]\n",
      "Value: 12, Rows: [44, 45, 46, 47]\n",
      "Value: 13, Rows: [48, 49, 50, 51]\n",
      "Value: 101, Rows: [52, 53, 54, 55]\n",
      "Value: 102, Rows: [56, 57, 58, 59]\n",
      "Value: 103, Rows: [60, 61, 62, 63]\n",
      "Value: 104, Rows: [64, 65, 66, 67]\n",
      "Value: 105, Rows: [68, 69, 70, 71]\n",
      "Value: 106, Rows: [72, 73, 74, 75]\n",
      "Value: 201, Rows: [76, 77, 78, 79]\n",
      "Value: 202, Rows: [80, 81, 82, 83]\n",
      "Value: 203, Rows: [84, 85, 86, 87]\n",
      "Value: 204, Rows: [88, 89, 90, 91]\n",
      "Value: 205, Rows: [92, 93, 94, 95]\n",
      "Value: 206, Rows: [96, 97, 98, 99]\n",
      "Value: 207, Rows: [100, 101, 102, 103]\n",
      "Value: 208, Rows: [104, 105, 106, 107]\n",
      "Value: 209, Rows: [108, 109, 110, 111]\n",
      "Value: 210, Rows: [112, 113, 114, 115]\n",
      "Value: 211, Rows: [116, 117, 118, 119]\n",
      "Value: 212, Rows: [120, 121, 122, 123]\n",
      "Value: 213, Rows: [124, 125, 126, 127]\n",
      "Value: 214, Rows: [128, 129, 130, 131]\n",
      "Value: 215, Rows: [132, 133, 134, 135]\n",
      "Value: 216, Rows: [136, 137, 138, 139]\n",
      "Value: 217, Rows: [140, 141, 142, 143]\n",
      "Value: 218, Rows: [144, 145, 146, 147]\n",
      "Value: 219, Rows: [148, 149, 150, 151]\n",
      "Value: 220, Rows: [152, 153, 154, 155]\n",
      "Value: 221, Rows: [156, 157, 158, 159]\n",
      "Value: 222, Rows: [160, 161, 162, 163]\n",
      "Value: 301, Rows: [164, 165, 166, 167]\n",
      "Value: 302, Rows: [168, 169, 170, 171]\n",
      "Value: 303, Rows: [172, 173, 174, 175]\n",
      "Value: 304, Rows: [176, 177, 178, 179]\n",
      "Value: 305, Rows: [180, 181, 182, 183]\n",
      "Value: 306, Rows: [184, 185, 186, 187]\n",
      "Value: 307, Rows: [188, 189, 190, 191]\n",
      "Value: 308, Rows: [192, 193, 194, 195]\n",
      "Value: 309, Rows: [196, 197, 198, 199]\n",
      "Value: 401, Rows: [200, 201, 202, 203]\n",
      "Value: 402, Rows: [204, 205, 206, 207]\n",
      "Value: 403, Rows: [208, 209, 210, 211]\n",
      "Value: 404, Rows: [212, 213, 214, 215]\n",
      "Value: 405, Rows: [216, 217, 218, 219]\n",
      "Value: 406, Rows: [220, 221, 222, 223]\n",
      "Value: 407, Rows: [224, 225, 226, 227]\n",
      "Value: 408, Rows: [228, 229, 230, 231]\n",
      "Value: 409, Rows: [232, 233, 234, 235]\n",
      "Value: 410, Rows: [236, 237, 238, 239]\n",
      "Value: 411, Rows: [240, 241, 242, 243]\n",
      "Value: 412, Rows: [244, 245, 246, 247]\n",
      "Value: 413, Rows: [248, 249, 250, 251]\n",
      "Value: 414, Rows: [252, 253, 254, 255]\n",
      "Value: 415, Rows: [256, 257, 258, 259]\n",
      "Value: 501, Rows: [260, 261, 262, 263]\n",
      "Value: 502, Rows: [264, 265, 266, 267]\n",
      "Value: 503, Rows: [268, 269, 270, 271]\n",
      "Value: 504, Rows: [272, 273, 274, 275]\n",
      "Value: 505, Rows: [276, 277, 278, 279]\n",
      "Value: 506, Rows: [280, 281, 282, 283]\n",
      "Value: 507, Rows: [284, 285, 286, 287]\n",
      "Value: 508, Rows: [288, 289, 290, 291]\n",
      "Value: 509, Rows: [292, 293, 294, 295]\n",
      "Value: 510, Rows: [296, 297, 298, 299]\n",
      "Value: 511, Rows: [300, 301, 302, 303]\n",
      "Value: 512, Rows: [304, 305, 306, 307]\n",
      "Value: 513, Rows: [308, 309, 310, 311]\n",
      "Value: 514, Rows: [312, 313, 314, 315]\n",
      "Value: 515, Rows: [316, 317, 318, 319]\n",
      "Value: 601, Rows: [320, 321, 322, 323]\n",
      "Value: 602, Rows: [324, 325, 326, 327]\n",
      "Value: 603, Rows: [328, 329, 330, 331]\n",
      "Value: 604, Rows: [332, 333, 334, 335]\n",
      "Value: 605, Rows: [336, 337, 338, 339]\n",
      "Value: 606, Rows: [340, 341, 342, 343]\n",
      "Value: 607, Rows: [344, 345, 346, 347]\n",
      "Value: 608, Rows: [348, 349, 350, 351]\n",
      "Value: 609, Rows: [352, 353, 354, 355]\n",
      "Value: 610, Rows: [356, 357, 358, 359]\n",
      "Value: 611, Rows: [360, 361, 362, 363]\n",
      "Value: 612, Rows: [364, 365, 366, 367]\n",
      "Value: 613, Rows: [368, 369, 370, 371]\n",
      "Value: 614, Rows: [372, 373, 374, 375]\n",
      "Value: 615, Rows: [376, 377, 378, 379]\n",
      "Value: 701, Rows: [380, 381, 382, 383]\n",
      "Value: 702, Rows: [384, 385, 386, 387]\n",
      "Value: 703, Rows: [388, 389, 390, 391]\n",
      "Value: 704, Rows: [392, 393, 394, 395]\n",
      "Value: 705, Rows: [396, 397, 398, 399]\n",
      "Value: 706, Rows: [400, 401, 402, 403]\n",
      "Value: 707, Rows: [404, 405, 406, 407]\n",
      "Value: 708, Rows: [408, 409, 410, 411]\n",
      "Value: 709, Rows: [412, 413, 414, 415]\n",
      "Value: 710, Rows: [416, 417, 418, 419]\n",
      "Value: 711, Rows: [420, 421, 422, 423]\n",
      "Value: 712, Rows: [424, 425, 426, 427]\n",
      "Value: 801, Rows: [428, 429, 430, 431]\n",
      "Value: 802, Rows: [432, 433, 434, 435]\n",
      "Value: 803, Rows: [436, 437, 438, 439]\n",
      "Value: 804, Rows: [440, 441, 442, 443]\n",
      "Value: 805, Rows: [444, 445, 446, 447]\n",
      "Value: 806, Rows: [448, 449, 450, 451]\n",
      "Value: 807, Rows: [452, 453, 454, 455]\n",
      "Value: 808, Rows: [456, 457, 458, 459]\n",
      "Value: 809, Rows: [460, 461, 462, 463]\n",
      "Value: 810, Rows: [464, 465, 466, 467]\n",
      "Value: 901, Rows: [468, 469, 470, 471]\n",
      "Value: 902, Rows: [472, 473, 474, 475]\n",
      "Value: 903, Rows: [476, 477, 478, 479]\n",
      "Value: 904, Rows: [480, 481, 482, 483]\n",
      "Value: 905, Rows: [484, 485, 486, 487]\n",
      "Value: 906, Rows: [488, 489, 490, 491]\n",
      "Value: 907, Rows: [492, 493, 494, 495]\n",
      "Value: 908, Rows: [496, 497, 498, 499]\n",
      "Value: 909, Rows: [500, 501, 502, 503]\n",
      "Value: 910, Rows: [504, 505, 506, 507]\n",
      "Value: 911, Rows: [508, 509, 510, 511]\n",
      "Value: 912, Rows: [512, 513, 514, 515]\n",
      "Value: 913, Rows: [516, 517, 518, 519]\n",
      "Value: 914, Rows: [520, 521, 522, 523]\n",
      "Value: 915, Rows: [524, 525, 526, 527]\n",
      "Value: 916, Rows: [528, 529, 530, 531]\n",
      "Value: 917, Rows: [532, 533, 534, 535]\n",
      "Value: 918, Rows: [536, 537, 538, 539]\n",
      "Value: 919, Rows: [540, 541, 542, 543]\n",
      "Value: 920, Rows: [544, 545, 546, 547]\n",
      "All values appear exactly 4 times.\n"
     ]
    }
   ],
   "source": [
    "# Clean LocationID\n",
    "\n",
    "# Convert str to int and clean o to 0 and l to 1\n",
    "df['LocationID'] = (\n",
    "    df['LocationID']\n",
    "    .astype(str)                           # Ensure all values are strings\n",
    "    .str.replace('O', '0')                 # Replace uppercase 'O' with '0'\n",
    "    .str.replace('o', '0')                 # Replace lowercase 'o' with '0'\n",
    "    .str.replace('l', '1')                 # Replace lowercase 'l' with '1'\n",
    "    .astype(int)                           # Convert to integers\n",
    ")\n",
    "\n",
    "# Print the updated DataFrame\n",
    "find_unique_values('LocationID')  \n",
    "\n",
    "# Check if all values in the column appear exactly 4 times\n",
    "value_counts = df['LocationID'].value_counts()\n",
    "\n",
    "# Check if all counts are equal to 4\n",
    "if (value_counts == 4).all():\n",
    "    print(\"All values appear exactly 4 times.\")\n",
    "else:\n",
    "    print(\"Not all values appear exactly 4 times.\")\n",
    "    print(\"Counts of values:\")\n",
    "    print(value_counts)"
   ]
  },
  {
   "cell_type": "markdown",
   "metadata": {},
   "source": [
    "2.5 Clean \"SalesInThousands\" - change str to float (i.e. replace \",\" with \".\")"
   ]
  },
  {
   "cell_type": "code",
   "execution_count": 11,
   "metadata": {},
   "outputs": [
    {
     "name": "stdout",
     "output_type": "stream",
     "text": [
      "68.42\n",
      "77.17\n"
     ]
    }
   ],
   "source": [
    "# Clean SalesInThousands\n",
    "\n",
    "# Replace the comma with a period and convert to float for specific rows (54 and 79)\n",
    "df.loc[54, 'SalesInThousands'] = df.loc[54, 'SalesInThousands'].replace(',', '.')\n",
    "df.loc[79, 'SalesInThousands'] = df.loc[79, 'SalesInThousands'].replace(',', '.')\n",
    "\n",
    "# Now convert the values in these rows to float\n",
    "df.loc[54, 'SalesInThousands'] = float(df.loc[54, 'SalesInThousands'])\n",
    "df.loc[79, 'SalesInThousands'] = float(df.loc[79, 'SalesInThousands'])\n",
    "\n",
    "# Check if the change was successful\n",
    "print(df.loc[54, 'SalesInThousands'])\n",
    "print(df.loc[79, 'SalesInThousands'])\n"
   ]
  },
  {
   "cell_type": "markdown",
   "metadata": {},
   "source": [
    "## 3. Explore the data "
   ]
  },
  {
   "cell_type": "markdown",
   "metadata": {},
   "source": [
    "3.1 General Information about the data"
   ]
  },
  {
   "cell_type": "code",
   "execution_count": 12,
   "metadata": {},
   "outputs": [
    {
     "name": "stdout",
     "output_type": "stream",
     "text": [
      "<class 'pandas.core.frame.DataFrame'>\n",
      "RangeIndex: 548 entries, 0 to 547\n",
      "Data columns (total 7 columns):\n",
      " #   Column            Non-Null Count  Dtype \n",
      "---  ------            --------------  ----- \n",
      " 0   MarketID          548 non-null    int64 \n",
      " 1   MarketSize        548 non-null    object\n",
      " 2   LocationID        548 non-null    int32 \n",
      " 3   AgeOfStore        548 non-null    int64 \n",
      " 4   Promotion         548 non-null    int64 \n",
      " 5   week              548 non-null    int32 \n",
      " 6   SalesInThousands  548 non-null    object\n",
      "dtypes: int32(2), int64(3), object(2)\n",
      "memory usage: 25.8+ KB\n"
     ]
    }
   ],
   "source": [
    "# Get general information about the DataFrame\n",
    "df.info()"
   ]
  },
  {
   "cell_type": "code",
   "execution_count": 13,
   "metadata": {},
   "outputs": [
    {
     "name": "stdout",
     "output_type": "stream",
     "text": [
      "   MarketID MarketSize  LocationID  AgeOfStore  Promotion  week  \\\n",
      "0         1     medium           1           4          3     1   \n",
      "1         1     medium           1           4          3     2   \n",
      "2         1     medium           1           4          3     3   \n",
      "3         1     medium           1           4          3     4   \n",
      "4         1     medium           2           5          2     1   \n",
      "\n",
      "  SalesInThousands  \n",
      "0            33.73  \n",
      "1            35.67  \n",
      "2            29.03  \n",
      "3            39.25  \n",
      "4            27.81  \n"
     ]
    }
   ],
   "source": [
    "# View the first 5 rows of the data\n",
    "print(df.head())"
   ]
  },
  {
   "cell_type": "code",
   "execution_count": 14,
   "metadata": {},
   "outputs": [
    {
     "name": "stdout",
     "output_type": "stream",
     "text": [
      "         MarketID  LocationID  AgeOfStore   Promotion        week\n",
      "count  548.000000  548.000000  548.000000  548.000000  548.000000\n",
      "mean     5.715328  479.656934    8.503650    2.029197    2.500000\n",
      "std      2.877001  287.973679    6.638345    0.810729    1.119055\n",
      "min      1.000000    1.000000    1.000000    1.000000    1.000000\n",
      "25%      3.000000  216.000000    4.000000    1.000000    1.750000\n",
      "50%      6.000000  504.000000    7.000000    2.000000    2.500000\n",
      "75%      8.000000  708.000000   12.000000    3.000000    3.250000\n",
      "max     10.000000  920.000000   28.000000    3.000000    4.000000\n"
     ]
    }
   ],
   "source": [
    "print(df.describe())"
   ]
  },
  {
   "cell_type": "markdown",
   "metadata": {},
   "source": [
    "3.2 Check for outliers"
   ]
  },
  {
   "cell_type": "code",
   "execution_count": 15,
   "metadata": {},
   "outputs": [
    {
     "data": {
      "image/png": "iVBORw0KGgoAAAANSUhEUgAAAx8AAAIhCAYAAAAvowfMAAAAOXRFWHRTb2Z0d2FyZQBNYXRwbG90bGliIHZlcnNpb24zLjkuMiwgaHR0cHM6Ly9tYXRwbG90bGliLm9yZy8hTgPZAAAACXBIWXMAAA9hAAAPYQGoP6dpAAAzvUlEQVR4nO3debzWc/74/+c5LefU6ZRK+x5TJFEiywxlCzFjGdtYBzMijH39jmIQ5iPDiIwxheaDZtCEIWvWkEwUpmmGJluWtAlt5/X7w6/r42hRqVed3O+327ndOu/363pfr+t6FdfjvK/rfYpSSikAAADWsuJ1PQEAAOD7QXwAAABZiA8AACAL8QEAAGQhPgAAgCzEBwAAkIX4AAAAshAfAABAFuIDAADIQnwAa9WwYcOiqKio0lejRo2iZ8+e8cADD2Sfz5gxYyrNpVq1atGkSZM4+OCD48033yyMmzp1ahQVFcWwYcNW+T7eeOONGDBgQEydOnXNTfz/9/jjj0f37t2jrKwsioqKYuTIkcsd+84778TJJ58cHTp0iFq1akWDBg1iyy23jF/84hfxzjvvrPJ9L3nuxowZs/oPYAUGDBgQRUVF8cknn6zS7Xr27LnU37FlfQ0YMCAiIoqKiuKUU05ZC4+galnyb3Nt/D0FWJ7q63oCwPfD0KFDY7PNNouUUkyfPj1uuOGG2G+//WLUqFGx3377ZZ/PFVdcEb169YoFCxbEyy+/HJdeemk8/vjjMXHixGjRosV3OvYbb7wRl1xySfTs2TPatm27ZiYcESmlOOSQQ6JDhw4xatSoKCsri44dOy5z7LvvvhvdunWLjTbaKM4666zo2LFjzJ49O954440YMWJEvPXWW9GqVas1Nrd16cYbb4w5c+YUvn/wwQfjsssuK/ydW6Jly5brYnoAfI34ALLo3LlzdO/evfD9XnvtFfXr148777xzncTHD37wg9h+++0jImLnnXeOjTbaKI4//vgYNmxYXHTRRdnnszLef//9+PTTT+OAAw6I3XbbbYVjb7nllvjkk0/ipZdeinbt2hW277///nHhhRdGRUXF2p5uNp06dar0/T//+c+IWPrvHADrnrddAetEaWlp1KxZM2rUqFFp+6effhonn3xytGjRImrWrBnt27ePiy66KObPnx8REV9++WV07do1Nt1005g9e3bhdtOnT4+mTZtGz549Y/Hixas8nyUh8t///neF45599tnYbbfdory8PGrXrh077rhjPPjgg4X9w4YNi4MPPjgiInr16lV4y8+3vX3r2447YMCAwk/uzzvvvCgqKlrhWZUZM2ZEcXFxNG7ceJn7i4v/7z//L7/8chx22GHRtm3bqFWrVrRt2zYOP/zwb30uvn77H//4x9GgQYMoLS2Nrl27xogRIyqN+fzzz+Pss8+Odu3aRWlpaTRo0CC6d+8ed9555wqP3bNnz+jcuXOMGzcufvSjH0Xt2rWjffv2ceWVV37ngLrjjjti8803j9q1a8dWW221zLcBftu6RPzf28W+aVlva3riiSeiZ8+e0bBhw6hVq1a0bt06DjrooPj8888LYy655JLo0aNHNGjQIOrWrRvdunWLW2+9NVJKlY7ftm3b2HfffePhhx+Obt26Ra1atWKzzTaLP/3pT0vN5YUXXoiddtopSktLo3nz5nHBBRfEwoULlxq3MvMD+C7EB5DF4sWLY9GiRbFw4cJ499134/TTT4958+bFz372s8KYL7/8Mnr16hW33357nHnmmfHggw/GkUceGVdffXUceOCBEfFVtIwYMSI++uijOO644yIioqKiIo444ohIKcWdd94Z1apVW+X5/fvf/46IiEaNGi13zFNPPRW77rprzJ49O2699da48847o7y8PPbbb7+4++67IyKiT58+ccUVV0RExODBg2Ps2LExduzY6NOnz3c67gknnBD33ntvRESceuqpMXbs2LjvvvuWe8wddtghKioq4sADD4zRo0dXelvSN02dOjU6duwYv/vd72L06NFx1VVXxQcffBDbbrvtt37+4sknn4yddtopZs2aFUOGDIm//e1vsfXWW8ehhx5aKbjOPPPMuOmmm+K0006Lhx9+OO644444+OCDY8aMGSs8fsRXYXnEEUfEkUceGaNGjYq99947Lrjgghg+fPi33nZ5Hnzwwbjhhhvi0ksvjXvuuScaNGgQBxxwQLz11luFMSuzLqti6tSp0adPn6hZs2b86U9/iocffjiuvPLKKCsriwULFlQad+KJJ8aIESPi3nvvjQMPPDBOPfXU+M1vfrPUMV999dU466yz4owzzoi//e1v0aVLlzj++OPj6aefLox54403YrfddotZs2bFsGHDYsiQIfGPf/wjLrvsstWaH8B3kgDWoqFDh6aIWOqrpKQk3XjjjZXGDhkyJEVEGjFiRKXtV111VYqI9MgjjxS23X333Ski0u9+97t08cUXp+Li4kr7l+fJJ59MEZHuvvvutHDhwvT555+np59+Om266aapWrVq6dVXX00ppfT222+niEhDhw4t3Hb77bdPjRs3TnPnzi1sW7RoUercuXNq2bJlqqioSCml9Je//CVFRHryySdX6jla2eMumdNvf/vbbz1mRUVFOvHEE1NxcXGKiFRUVJQ233zzdMYZZ6S33357hbddtGhR+uyzz1JZWVm67rrrCtuXPHdff1ybbbZZ6tq1a1q4cGGlY+y7776pWbNmafHixSmllDp37pz233//Fd5v//79U0Skjz/+uLBtl112SRGRXnzxxUpjO3XqlHr37r3M4yz5Ozdu3Lhl7o+I1KRJkzRnzpzCtunTp6fi4uI0cODAwraVXZcl817ePJY833/9619TRKQJEyas8Hn4usWLF6eFCxemSy+9NDVs2LBwnyml1KZNm1RaWpr++9//FrZ98cUXqUGDBunEE08sbDv00ENTrVq10vTp0ys9js022+w7zw9gVTnzAWRx++23x7hx42LcuHHx0EMPxTHHHBP9+vWLG264oTDmiSeeiLKysvjpT39a6bbHHntsRHx1paclDjnkkDjppJPinHPOicsuuywuvPDC2GOPPVZ6PoceemjUqFEjateuHTvvvHMsXrw4/vrXv0aXLl2WOX7evHnx4osvxk9/+tOoU6dOYXu1atXiqKOOinfffTcmT5680ve/to9bVFQUQ4YMibfeeituvPHG+PnPfx4LFy6Ma6+9NrbYYot46qmnCmM/++yzOO+882LTTTeN6tWrR/Xq1aNOnToxb968SlcA+6Z///vf8c9//jOOOOKIiIhYtGhR4WufffaJDz74oDD37bbbLh566KE4//zzY8yYMfHFF1+s9GNp2rRpbLfddpW2denSZaXfFrYsvXr1ivLy8sL3TZo0icaNGxeOuTbWZeutt46aNWvGL3/5y7jtttsqnWX5uieeeCJ23333qFevXlSrVi1q1KgRF198ccyYMSM++uijpY7ZunXrwvelpaXRoUOHSs/Nk08+Gbvttls0adKk0uM49NBDV2t+AN+F+ACy2HzzzaN79+7RvXv32GuvveLmm2+OPffcM84999yYNWtWRHz1OYWmTZsu9f75xo0bR/Xq1Zd6i85xxx0XCxcujOrVq8dpp522SvO56qqrYty4cfHKK6/EtGnT4q233or9999/ueNnzpwZKaVo1qzZUvuaN29emP+qWlvHXaJNmzZx0kknxa233hpTpkyJu+++O7788ss455xzCmN+9rOfxQ033BAnnHBCjB49Ol566aUYN25cNGrUaIWR8OGHH0ZExNlnnx01atSo9HXyySdHRBTetnX99dfHeeedFyNHjoxevXpFgwYNYv/9948pU6Z862No2LDhUttKSkpWKWBW9ZhrY1022WSTeOyxx6Jx48bRr1+/2GSTTWKTTTaJ6667rjDmpZdeij333DMivrpowHPPPRfjxo0rXAThm495ZZ6bJf+uvumb21ZmfgDflatdAetMly5dYvTo0fGvf/0rtttuu2jYsGG8+OKLkVKqFCAfffRRLFq0KDbeeOPCtnnz5sVRRx0VHTp0iA8//DBOOOGE+Nvf/rbS992+fftVuhJS/fr1o7i4OD744IOl9r3//vsREZXmt66PuzyHHHJIDBw4MCZNmhQREbNnz44HHngg+vfvH+eff35h3Pz58+PTTz9d4bGWzOuCCy4ofCbnm5ZcCrisrCwuueSSuOSSS+LDDz8snAXZb7/9ClenWp+syrqUlpZGxFfPWUlJSWHcsj4v86Mf/Sh+9KMfxeLFi+Pll1+O3//+93H66adHkyZN4rDDDou77roratSoEQ888EDhuBGxwt/n8m0aNmwY06dPX2r7srZ92/wAvitnPoB1ZsKECRHxfx/y3m233eKzzz5b6oXW7bffXti/RN++fWPatGlx7733xq233hqjRo2Ka6+9dq3NtaysLHr06BH33ntvpZ8qV1RUxPDhw6Nly5bRoUOHiIjCC9CV+cn8qhx3VSzrRXPEV2+xeueddwo/vS8qKoqUUqUXzRERf/zjH7/1qmEdO3aMH/zgB/Hqq68Wzmp98+vrb21aokmTJnHsscfG4YcfHpMnT14vr6S0Kuuy5Kpjr732WqVj3H///cs9frVq1aJHjx4xePDgiIh45ZVXIuKr9ahevXqliyZ88cUXcccdd6z2Y+nVq1c8/vjjhTNVEV9dAGJFH5pf3vwAvitnPoAsJk2aFIsWLYqIr94Gcu+998ajjz4aBxxwQOH3UBx99NExePDgOOaYY2Lq1Kmx5ZZbxrPPPhtXXHFF7LPPPrH77rtHxFcvjIcPHx5Dhw6NLbbYIrbYYos45ZRT4rzzzouddtppqc8HrCkDBw6MPfbYI3r16hVnn3121KxZM2688caYNGlS3HnnnYWzNZ07d46IiD/84Q9RXl4epaWl0a5du2W+RWZVjrsqLr/88njuuefi0EMPja233jpq1aoVb7/9dtxwww0xY8aM+O1vfxsREXXr1o2dd945fvvb38bGG28cbdu2jaeeeipuvfXW2Gijjb71fm6++ebYe++9o3fv3nHsscdGixYt4tNPP40333wzXnnllfjLX/4SERE9evSIfffdN7p06RL169ePN998M+64447YYYcdonbt2qv8+HJY2XXZZ599okGDBnH88cfHpZdeGtWrV49hw4Yt9VvkhwwZEk888UT06dMnWrduHV9++WXhsrhL/m736dMnBg0aFD/72c/il7/8ZcyYMSP+53/+Z6k4XBX/7//9vxg1alTsuuuucfHFF0ft2rVj8ODBMW/evFWeH8B3tk4/7g5s8JZ1tat69eqlrbfeOg0aNCh9+eWXlcbPmDEj9e3bNzVr1ixVr149tWnTJl1wwQWFca+99lqqVatWOuaYYyrd7ssvv0zbbLNNatu2bZo5c+Zy57Pkik1/+ctfVjjvZV3tKqWUnnnmmbTrrrumsrKyVKtWrbT99tun+++/f6nb/+53v0vt2rVL1apVW+ZxvmlljrsqV7t64YUXUr9+/dJWW22VGjRokKpVq5YaNWqU9tprr/T3v/+90th33303HXTQQal+/fqpvLw87bXXXmnSpEmpTZs2lZ7nZV3tKqWUXn311XTIIYekxo0bpxo1aqSmTZumXXfdNQ0ZMqQw5vzzz0/du3dP9evXTyUlJal9+/bpjDPOSJ988klhzPKudrXFFlss9fiOOeaY1KZNm2U+9pW52lW/fv2W2v7Nx5vSyq/3Sy+9lHbcccdUVlaWWrRokfr375/++Mc/Vrqa1NixY9MBBxyQ2rRpk0pKSlLDhg3TLrvskkaNGlXpWH/6059Sx44dC8/TwIED06233lrpWEvm26dPn6Xmsssuu6Rddtml0rbnnnsubb/99qmkpCQ1bdo0nXPOOekPf/jDas0P4LsoSukbv7UIAABgLfCZDwAAIAvxAQAAZCE+AACALMQHAACQhfgAAACyEB8AAEAWq/1LBisqKuL999+P8vLy1foFWAAAwIYhpRRz586N5s2bR3Hx8s9vrHZ8vP/++9GqVavVvTkAALCBeeedd6Jly5bL3b/a8VFeXl64g7p1667uYQAAgCpuzpw50apVq0IjLM9qx8eSt1rVrVtXfAAAAN/6cQwfOAcAALIQHwAAQBbiAwAAyEJ8AAAAWYgPAAAgC/EBAABkIT4AAIAsxAcAAJCF+AAAALIQHwAAQBbiAwAAyEJ8AAAAWYgPAAAgC/EBAABkIT4AAIAsxAcAAJCF+AAAALIQHwAAQBbiAwAAyEJ8AAAAWYgPAAAgC/EBAABkIT4AAIAsxAcAAJCF+AAAALIQHwAAQBbiAwAAyEJ8AAAAWYgPAAAgC/EBAABkIT4AAIAsxAcAAJCF+AAAALIQHwAAQBbiAwAAyEJ8AAAAWYgPAAAgC/EBAABkIT4AAIAsxAcAAJCF+AAAALIQHwAAQBbV1/UE1oZZs2bFvHnzoqysLDbaaKN1PR0AACA2wPiYNWtWXDNoUCxetCiqVa8eZ515pgABAID1wAb3tqt58+bF4kWLIiJi8aJFMW/evHU8IwAAIGIDjA8AAGD9JD4AAIAsxAcAAJCF+AAAALIQHwAAQBbiAwAAyEJ8AAAAWYgPAAAgC/EBAABkIT4AAIAsxAcAAJCF+AAAALIQHwAAQBbiAwAAyEJ8AAAAWYgPAAAgC/EBAABkIT4AAIAsxAcAAJCF+AAAALIQHwAAQBbiAwAAyEJ8AAAAWYgPAAAgC/EBAABkIT4AAIAsxAcAAJCF+AAAALIQHwAAQBbiAwAAyEJ8AAAAWYgPAAAgC/EBAABkIT4AAIAsxAcAAJCF+AAAALIQHwAAQBbiAwAAyEJ8AAAAWYgPAAAgC/EBAABkIT4AAIAsxAcAAJCF+AAAALIQHwAAQBbiAwAAyEJ8AAAAWYgPAAAgC/EBAABkIT4AAIAsxAcAAJCF+AAAALIQHwAAQBbiAwAAyEJ8AAAAWYgPAAAgC/EBAABkIT4AAIAsxAcAAJCF+AAAALIQHwAAQBbiAwAAyEJ8AAAAWYgPAAAgC/EBAABkIT4AAIAsxAcAAJCF+AAAALIQHwAAQBbiAwAAyEJ8AAAAWYgPAAAgC/EBAABkIT4AAIAsxAcAAJCF+AAAALIQHwAAQBbiAwAAyEJ8AAAAWYgPAAAgC/EBAABkIT4AAIAsxAcAAJCF+AAAALIQHwAAQBbiAwAAyEJ8AAAAWYgPAAAgC/EBAABksUHEx4IFC+K9996LBQsWrNZ+AABg7dsg4uPjjz+OwYMHx8cff7xa+wEAgLVvg4gPAABg/Sc+AACALMQHAACQhfgAAACyEB8AAEAW4gMAAMhCfAAAAFmIDwAAIAvxAQAAZCE+AACALMQHAACQhfgAAACyEB8AAEAW4gMAAMhCfAAAAFmIDwAAIAvxAQAAZCE+AACALMQHAACQhfgAAACyEB8AAEAW4gMAAMhCfAAAAFmIDwAAIAvxAQAAZCE+AACALMQHAACQhfgAAACyEB8AAEAW4gMAAMhCfAAAAFmIDwAAIAvxAQAAZCE+AACALMQHAACQhfgAAACyEB8AAEAW4gMAAMhCfAAAAFmIDwAAIAvxAQAAZCE+AACALMQHAACQhfgAAACyEB8AAEAW4gMAAMhCfAAAAFmIDwAAIAvxAQAAZCE+AACALMQHAACQhfgAAACyEB8AAEAW4gMAAMhCfAAAAFmIDwAAIAvxAQAAZCE+AACALMQHAACQhfgAAACyEB8AAEAW4gMAAMhCfAAAAFmIDwAAIAvxAQAAZCE+AACALMQHAACQhfgAAACyEB8AAEAW4gMAAMhCfAAAAFmIDwAAIAvxAQAAZCE+AACALMQHAACQhfgAAACyEB8AAEAW4gMAAMhCfAAAAFmIDwAAIAvxAQAAZCE+AACALMQHAACQhfgAAACyEB8AAEAW4gMAAMhCfAAAAFlUX9cTWNvee++9GDlyZEREDB48OCIi+vbtG61bt14n86moqIipU6fG3Llzo7y8PNq2bRvFxRoQAICVV1VfU27w8bEkPL5uyJAhERFxxRVXZJ3LpEmT4qGHHoqZM2cWttWvXz/23nvv6Ny5c9a5AABQNVXl15Trfx6tRRdeeGG2+5o0aVLceeed0aRJk+jbt2/0798/+vbtG02aNIk777wzJk2alG0uAABUTVX9NeX3Ij6OPPLIiIjo169fnHnmmZX2TZs2ba3ff0VFRTz00EPRsWPHOPLII6N169ZRUlISrVu3jiOPPDI6duwYDz30UFRUVKz1uQAAUDVtCK8pVzo+5s+fH3PmzKn0tb75+OOP4+OPP15q+4IFCwp/3njjjSvtW/IWrLVp6tSpMXPmzOjZs+dS78UrLi6Onj17xsyZM2Pq1KlrfS4AAFRNG8JrypWOj4EDB0a9evUKX61atVqb81otI0aMiBEjRixz+9d1794915QiImLu3LkREdGkSZNl7l+yfck4AAD4pg3hNeVKx8cFF1wQs2fPLny98847a3Neq+WQQw6JQw45ZJnbv+7ll1/ONaWIiCgvL4+IiA8//HCZ+5dsXzIOAAC+aUN4TbnS8VFSUhJ169at9LW+adSoUTRq1Gip7TVr1iz8+ZNPPqm0r2/fvmt9Xm3bto369evHmDFjlnoPXkVFRYwZMybq168fbdu2XetzAQCgatoQXlN+Lz5wPnz48Ij46vd8DBo0qNK+HL/vo7i4OPbee++YPHlyDB8+PKZNmxbz58+PadOmxfDhw2Py5Mmx9957V4lrMwMAsG5sCK8pN/jf87EiOX/PR+fOnePwww+Phx56qNKH3OvXrx+HH374en9NZgAA1r2q/ppyg4+P/ffff6lfNLiufsN5586do1OnTlXyt1ECALB+qMqvKTf4+GjRokX069cvBg8eHP369YsWLVqs0/kUFxdH+/bt1+kcAACo2qrqa8r1P48AAIANgvgAAACyEB8AAEAW4gMAAMhCfAAAAFmIDwAAIAvxAQAAZCE+AACALMQHAACQhfgAAACyEB8AAEAW4gMAAMhCfAAAAFmIDwAAIAvxAQAAZCE+AACALMQHAACQhfgAAACyEB8AAEAW4gMAAMhCfAAAAFmIDwAAIAvxAQAAZCE+AACALMQHAACQhfgAAACyEB8AAEAW4gMAAMhCfAAAAFmIDwAAIAvxAQAAZCE+AACALMQHAACQhfgAAACyEB8AAEAW4gMAAMhCfAAAAFmIDwAAIAvxAQAAZCE+AACALMQHAACQhfgAAACyEB8AAEAW4gMAAMhCfAAAAFmIDwAAIAvxAQAAZCE+AACALMQHAACQhfgAAACyEB8AAEAW4gMAAMhCfAAAAFmIDwAAIAvxAQAAZCE+AACALMQHAACQhfgAAACyEB8AAEAW4gMAAMhCfAAAAFmIDwAAIAvxAQAAZCE+AACALMQHAACQhfgAAACyEB8AAEAW4gMAAMhCfAAAAFmIDwAAIAvxAQAAZCE+AACALMQHAACQhfgAAACyEB8AAEAW4gMAAMhCfAAAAFmIDwAAIAvxAQAAZCE+AACALMQHAACQhfgAAACyEB8AAEAW4gMAAMhCfAAAAFmIDwAAIIsNIj4aNWoU/fr1i0aNGq3WfgAAYO2rvq4nsCbUrFkzWrRosdr7AQCAtW+DOPMBAACs/8QHAACQhfgAAACyEB8AAEAW4gMAAMhCfAAAAFmIDwAAIAvxAQAAZCE+AACALMQHAACQhfgAAACyEB8AAEAW4gMAAMhCfAAAAFmIDwAAIAvxAQAAZCE+AACALMQHAACQhfgAAACyEB8AAEAW4gMAAMhCfAAAAFmIDwAAIAvxAQAAZCE+AACALMQHAACQhfgAAACyEB8AAEAW4gMAAMhCfAAAAFmIDwAAIAvxAQAAZCE+AACALMQHAACQhfgAAACyEB8AAEAW4gMAAMhCfAAAAFmIDwAAIAvxAQAAZCE+AACALMQHAACQhfgAAACyEB8AAEAW4gMAAMhCfAAAAFmIDwAAIAvxAQAAZCE+AACALMQHAACQhfgAAACyEB8AAEAW4gMAAMhCfAAAAFmIDwAAIAvxAQAAZCE+AACALMQHAACQhfgAAACyEB8AAEAW4gMAAMhCfAAAAFmIDwAAIAvxAQAAZCE+AACALMQHAACQhfgAAACyEB8AAEAW4gMAAMhCfAAAAFmIDwAAIAvxAQAAZCE+AACALMQHAACQhfgAAACyEB8AAEAW4gMAAMhCfAAAAFmIDwAAIAvxAQAAZCE+AACALMQHAACQhfgAAACyEB8AAEAW4gMAAMhCfAAAAFmIDwAAIAvxAQAAZCE+AACALMQHAACQxQYXH2VlZVGtevWIiKhWvXqUlZWt4xkBAAAREdXX9QTWtI022ijOOvPMmDdvXpSVlcVGG220rqcEAADEBhgfEV8FiOgAAID1ywb3tisAAGD9JD4AAIAsxAcAAJCF+AAAALIQHwAAQBbiAwAAyEJ8AAAAWYgPAAAgC/EBAABkIT4AAIAsxAcAAJCF+AAAALIQHwAAQBbiAwAAyEJ8AAAAWYgPAAAgC/EBAABkIT4AAIAsxAcAAJCF+AAAALIQHwAAQBbiAwAAyEJ8AAAAWYgPAAAgC/EBAABkIT4AAIAsxAcAAJCF+AAAALIQHwAAQBbiAwAAyEJ8AAAAWYgPAAAgC/EBAABkIT4AAIAsxAcAAJCF+AAAALIQHwAAQBbiAwAAyEJ8AAAAWYgPAAAgC/EBAABkIT4AAIAsqq/uDVNKERExZ86cNTYZAACg6lnSBEsaYXlWOz7mzp0bERGtWrVa3UMAAAAbkLlz50a9evWWu78ofVueLEdFRUW8//77UV5eHkVFRas9we9izpw50apVq3jnnXeibt2662QOfDfWsOqzhlWfNazarF/VZw2rPmv41RmPuXPnRvPmzaO4ePmf7FjtMx/FxcXRsmXL1b35GlW3bt3v7UJvKKxh1WcNqz5rWLVZv6rPGlZ93/c1XNEZjyV84BwAAMhCfAAAAFlU6fgoKSmJ/v37R0lJybqeCqvJGlZ91rDqs4ZVm/Wr+qxh1WcNV95qf+AcAABgVVTpMx8AAEDVIT4AAIAsxAcAAJCF+AAAALKo0vFx4403Rrt27aK0tDS22WabeOaZZ9b1lL6Xnn766dhvv/2iefPmUVRUFCNHjqy0P6UUAwYMiObNm0etWrWiZ8+e8frrr1caM3/+/Dj11FNj4403jrKysvjxj38c7777bqUxM2fOjKOOOirq1asX9erVi6OOOipmzZq1lh/dhm/gwIGx7bbbRnl5eTRu3Dj233//mDx5cqUx1nD9dtNNN0WXLl0Kv9xqhx12iIceeqiw3/pVLQMHDoyioqI4/fTTC9us4fptwIABUVRUVOmradOmhf3Wr2p477334sgjj4yGDRtG7dq1Y+utt47x48cX9lvHNSRVUXfddVeqUaNGuuWWW9Ibb7yRfvWrX6WysrL03//+d11P7Xvn73//e7rooovSPffckyIi3XfffZX2X3nllam8vDzdc889aeLEienQQw9NzZo1S3PmzCmM6du3b2rRokV69NFH0yuvvJJ69eqVttpqq7Ro0aLCmL322it17tw5Pf/88+n5559PnTt3Tvvuu2+uh7nB6t27dxo6dGiaNGlSmjBhQurTp09q3bp1+uyzzwpjrOH6bdSoUenBBx9MkydPTpMnT04XXnhhqlGjRpo0aVJKyfpVJS+99FJq27Zt6tKlS/rVr35V2G4N12/9+/dPW2yxRfrggw8KXx999FFhv/Vb/3366aepTZs26dhjj00vvvhievvtt9Njjz2W/v3vfxfGWMc1o8rGx3bbbZf69u1badtmm22Wzj///HU0I1JKS8VHRUVFatq0abryyisL27788stUr169NGTIkJRSSrNmzUo1atRId911V2HMe++9l4qLi9PDDz+cUkrpjTfeSBGRXnjhhcKYsWPHpohI//znP9fyo/p++eijj1JEpKeeeiqlZA2rqvr166c//vGP1q8KmTt3bvrBD36QHn300bTLLrsU4sMarv/69++fttpqq2Xus35Vw3nnnZd++MMfLne/dVxzquTbrhYsWBDjx4+PPffcs9L2PffcM55//vl1NCuW5e23347p06dXWquSkpLYZZddCms1fvz4WLhwYaUxzZs3j86dOxfGjB07NurVqxc9evQojNl+++2jXr161nwNmz17dkRENGjQICKsYVWzePHiuOuuu2LevHmxww47WL8qpF+/ftGnT5/YfffdK223hlXDlClTonnz5tGuXbs47LDD4q233ooI61dVjBo1Krp37x4HH3xwNG7cOLp27Rq33HJLYb91XHOqZHx88sknsXjx4mjSpEml7U2aNInp06evo1mxLEvWY0VrNX369KhZs2bUr19/hWMaN2681PEbN25szdeglFKceeaZ8cMf/jA6d+4cEdawqpg4cWLUqVMnSkpKom/fvnHfffdFp06drF8Vcdddd8Urr7wSAwcOXGqfNVz/9ejRI26//fYYPXp03HLLLTF9+vTYcccdY8aMGdavinjrrbfipptuih/84AcxevTo6Nu3b5x22mlx++23R4R/h2tS9XU9ge+iqKio0vcppaW2sX5YnbX65phljbfma9Ypp5wSr732Wjz77LNL7bOG67eOHTvGhAkTYtasWXHPPffEMcccE0899VRhv/Vbf73zzjvxq1/9Kh555JEoLS1d7jhruP7ae++9C3/ecsstY4cddohNNtkkbrvttth+++0jwvqt7yoqKqJ79+5xxRVXRERE165d4/XXX4+bbropjj766MI46/jdVckzHxtvvHFUq1ZtqUL86KOPlipS1q0lV/tY0Vo1bdo0FixYEDNnzlzhmA8//HCp43/88cfWfA059dRTY9SoUfHkk09Gy5YtC9utYdVQs2bN2HTTTaN79+4xcODA2GqrreK6666zflXA+PHj46OPPoptttkmqlevHtWrV4+nnnoqrr/++qhevXrh+bWGVUdZWVlsueWWMWXKFP8Gq4hmzZpFp06dKm3bfPPNY9q0aRHh/4VrUpWMj5o1a8Y222wTjz76aKXtjz76aOy4447raFYsS7t27aJp06aV1mrBggXx1FNPFdZqm222iRo1alQa88EHH8SkSZMKY3bYYYeYPXt2vPTSS4UxL774YsyePduaf0cppTjllFPi3nvvjSeeeCLatWtXab81rJpSSjF//nzrVwXstttuMXHixJgwYULhq3v37nHEEUfEhAkTon379tawipk/f368+eab0axZM/8Gq4iddtppqcvM/+tf/4o2bdpEhP8XrlE5P92+Ji251O6tt96a3njjjXT66aensrKyNHXq1HU9te+duXPnpn/84x/pH//4R4qINGjQoPSPf/yjcNnjK6+8MtWrVy/de++9aeLEienwww9f5qXpWrZsmR577LH0yiuvpF133XWZl6br0qVLGjt2bBo7dmzacsstv1eXpltbTjrppFSvXr00ZsyYSpeJ/PzzzwtjrOH67YILLkhPP/10evvtt9Nrr72WLrzwwlRcXJweeeSRlJL1q4q+frWrlKzh+u6ss85KY8aMSW+99VZ64YUX0r777pvKy8sLr0ms3/rvpZdeStWrV0+XX355mjJlSvrzn/+cateunYYPH14YYx3XjCobHymlNHjw4NSmTZtUs2bN1K1bt8KlQcnrySefTBGx1NcxxxyTUvrq8nT9+/dPTZs2TSUlJWnnnXdOEydOrHSML774Ip1yyimpQYMGqVatWmnfffdN06ZNqzRmxowZ6Ygjjkjl5eWpvLw8HXHEEWnmzJmZHuWGa1lrFxFp6NChhTHWcP123HHHFf5b2KhRo7TbbrsVwiMl61cVfTM+rOH6bcnve6hRo0Zq3rx5OvDAA9Prr79e2G/9qob7778/de7cOZWUlKTNNtss/eEPf6i03zquGUUppbRuzrkAAADfJ1XyMx8AAEDVIz4AAIAsxAcAAJCF+AAAALIQHwAAQBbiAwAAyEJ8AAAAWYgPAAAgC/EBkNmwYcNio402Wuv3s/POO8f//u//Fr4vKiqKkSNHrvH7GTBgQGy99dZr/Ljri5V93ubPnx+tW7eO8ePHr/1JAVRR4gNgFXz00Udx4oknRuvWraOkpCSaNm0avXv3jrFjx67rqVXywAMPxPTp0+Owww4rbPvggw9i7733/k7HXVsBsyEoKSmJs88+O84777x1PRWA9Vb1dT0BgKrkoIMOioULF8Ztt90W7du3jw8//DAef/zx+PTTT9f11Cq5/vrr4+c//3kUF//fz5iaNm26Dmf0/XDEEUfEOeecE2+++WZsvvnm63o6AOsdZz4AVtKsWbPi2Wefjauuuip69eoVbdq0ie222y4uuOCC6NOnT2HcoEGDYsstt4yysrJo1apVnHzyyfHZZ5+t8Nj3339/bLPNNlFaWhrt27ePSy65JBYtWlTYP2DAgMLZlubNm8dpp5223GN98skn8dhjj8WPf/zjStu/ftZi6tSpUVRUFPfee2/06tUrateuHVtttdUKz+C0bds2IiIOOOCAKCoqKny/xB133BFt27aNevXqxWGHHRZz584t7Js/f36cdtpp0bhx4ygtLY0f/vCHMW7cuML+Zb0VbeTIkVFUVFT4/tVXX41evXpFeXl51K1bN7bZZpt4+eWXIyJixowZcfjhh0fLli2jdu3aseWWW8add95Z6Xg9e/aM0047Lc4999xo0KBBNG3aNAYMGFBpzJQpU2LnnXeO0tLS6NSpUzz66KOV9i9YsCBOOeWUaNasWZSWlkbbtm1j4MCBhf0NGzaMHXfccan7BuAr4gNgJdWpUyfq1KkTI0eOjPnz5y93XHFxcVx//fUxadKkuO222+KJJ56Ic889d7njR48eHUceeWScdtpp8cYbb8TNN98cw4YNi8svvzwiIv7617/GtddeGzfffHNMmTIlRo4cGVtuueVyj/fss89G7dq1V+on7xdddFGcffbZMWHChOjQoUMcfvjhlaLn65bEwtChQ+ODDz6oFA//+c9/YuTIkfHAAw/EAw88EE899VRceeWVhf3nnntu3HPPPXHbbbfFK6+8Eptuumn07t17lc4YHXHEEdGyZcsYN25cjB8/Ps4///yoUaNGRER8+eWXsc0228QDDzwQkyZNil/+8pdx1FFHxYsvvljpGLfddluUlZXFiy++GFdffXVceumlhcCoqKiIAw88MKpVqxYvvPBCDBkyZKm3UF1//fUxatSoGDFiREyePDmGDx++VIRtt9128cwzz6z04wL4XkkArLS//vWvqX79+qm0tDTtuOOO6YILLkivvvrqCm8zYsSI1LBhw8L3Q4cOTfXq1St8/6Mf/ShdccUVlW5zxx13pGbNmqWUUrrmmmtShw4d0oIFC1Zqjtdee21q3779UtsjIt13330ppZTefvvtFBHpj3/8Y2H/66+/niIivfnmm8s99tePsUT//v1T7dq105w5cwrbzjnnnNSjR4+UUkqfffZZqlGjRvrzn/9c2L9gwYLUvHnzdPXVV6eUln5OUkrpvvvuS1//31R5eXkaNmzYih/81+yzzz7prLPOKny/yy67pB/+8IeVxmy77bbpvPPOSymlNHr06FStWrX0zjvvFPY/9NBDlR7zqaeemnbddddUUVGx3Pu97rrrUtu2bVd6ngDfJ858AKyCgw46KN5///0YNWpU9O7dO8aMGRPdunWLYcOGFcY8+eSTsccee0SLFi2ivLw8jj766JgxY0bMmzdvmcccP358XHrppYUzK3Xq1Ilf/OIX8cEHH8Tnn38eBx98cHzxxRfRvn37+MUvfhH33Xffcs9ORER88cUXUVpaulKPp0uXLoU/N2vWLCK++lD9qmrbtm2Ul5dXOtaS4/znP/+JhQsXxk477VTYX6NGjdhuu+3izTffXOn7OPPMM+OEE06I3XffPa688sr4z3/+U9i3ePHiuPzyy6NLly7RsGHDqFOnTjzyyCMxbdq0Ssf4+uP95jzffPPNaN26dbRs2bKwf4cddqg0/thjj40JEyZEx44d47TTTotHHnlkqXnWqlUrPv/885V+XADfJ+IDYBWVlpbGHnvsERdffHE8//zzceyxx0b//v0jIuK///1v7LPPPtG5c+e45557Yvz48TF48OCIiFi4cOEyj1dRURGXXHJJTJgwofA1ceLEmDJlSpSWlkarVq1i8uTJMXjw4KhVq1acfPLJsfPOOy/3eBtvvHHMnDlzpR7LkrctRUTh8xUVFRUr/Vws6zhLjrXkOCmlSsdfIqVU2FZcXFwYt8Q3H9+AAQPi9ddfjz59+sQTTzwRnTp1ivvuuy8iIq655pq49tpr49xzz40nnngiJkyYEL17944FCxas8jy/uf/runXrFm+//Xb85je/iS+++CIOOeSQ+OlPf1ppzKeffhqNGjVa6lgAiA+A76xTp06Fsxovv/xyLFq0KK655prYfvvto0OHDvH++++v8PbdunWLyZMnx6abbrrU15KrVdWqVSt+/OMfx/XXXx9jxoyJsWPHxsSJE5d5vK5du8b06dNXOkBWRY0aNWLx4sWrdJtNN900atasGc8++2xh28KFC+Pll18ufC6lUaNGMXfu3EpnhyZMmLDUsTp06BBnnHFGPPLII3HggQfG0KFDIyLimWeeiZ/85Cdx5JFHxlZbbRXt27ePKVOmrNI8O3XqFNOmTau0Xsv6AH7dunXj0EMPjVtuuSXuvvvuuOeeeyp9dmXSpEnRtWvXVbpvgO8Ll9oFWEkzZsyIgw8+OI477rjo0qVLlJeXx8svvxxXX311/OQnP4mIiE022SQWLVoUv//972O//faL5557LoYMGbLC41588cWx7777RqtWreLggw+O4uLieO2112LixIlx2WWXxbBhw2Lx4sXRo0ePqF27dtxxxx1Rq1ataNOmzTKP17Vr12jUqFE899xzse+++67R56Bt27bx+OOPx0477RQlJSVRv379b71NWVlZnHTSSXHOOedEgwYNonXr1nH11VfH559/Hscff3xEROGxXXjhhXHqqafGSy+9VOmtbF988UWcc8458dOf/jTatWsX7777bowbNy4OOuigiPgqcO655554/vnno379+jFo0KCYPn36Kl3udvfdd4+OHTvG0UcfHddcc03MmTMnLrrookpjrr322mjWrFlsvfXWUVxcHH/5y1+iadOmla7U9cwzz8RvfvOblb5fgO8TZz4AVlKdOnWiR48ece2118bOO+8cnTt3jl//+tfxi1/8Im644YaIiNh6661j0KBBcdVVV0Xnzp3jz3/+c6VLsS5L796944EHHohHH300tt1229h+++1j0KBBhbjYaKON4pZbbomddtopunTpEo8//njcf//90bBhw2Uer1q1anHcccfFn//85zX7BMRXb2969NFHo1WrVqv00/0rr7wyDjrooDjqqKOiW7du8e9//ztGjx5diJcGDRrE8OHD4+9//3vhMrlfvwxutWrVYsaMGXH00UdHhw4d4pBDDom99947LrnkkoiI+PWvfx3dunWL3r17R8+ePaNp06ax//77r9JjKy4ujvvuuy/mz58f2223XZxwwgmFK44tUadOnbjqqquie/fuse2228bUqVPj73//e+EM1dixY2P27NlLvRULgK8UpWW9yRWAKu3DDz+MLbbYIsaPH7/cMySseQcffHB07do1LrzwwnU9FYD1kjMfABugJk2axK233rrU1Z5Ye+bPnx9bbbVVnHHGGet6KgDrLWc+AACALJz5AAAAshAfAABAFuIDAADIQnwAAABZiA8AACAL8QEAAGQhPgAAgCzEBwAAkIX4AAAAsvj/AMeMJ/cuuXX4AAAAAElFTkSuQmCC",
      "text/plain": [
       "<Figure size 1000x600 with 1 Axes>"
      ]
     },
     "metadata": {},
     "output_type": "display_data"
    },
    {
     "name": "stdout",
     "output_type": "stream",
     "text": [
      "Outliers detected: 33\n",
      "     MarketID MarketSize  LocationID  AgeOfStore  Promotion  week  \\\n",
      "80          3      large         202           8          1     1   \n",
      "83          3      large         202           8          1     4   \n",
      "84          3      large         203          12          3     1   \n",
      "90          3      large         204           1          2     3   \n",
      "93          3      large         205          19          3     2   \n",
      "95          3      large         205          19          3     4   \n",
      "99          3      large         206          11          3     4   \n",
      "103         3      large         207           1          3     4   \n",
      "104         3      large         208           1          3     1   \n",
      "106         3      large         208           1          3     3   \n",
      "108         3      large         209           1          1     1   \n",
      "109         3      large         209           1          1     2   \n",
      "110         3      large         209           1          1     3   \n",
      "111         3      large         209           1          1     4   \n",
      "113         3      large         210          19          1     2   \n",
      "114         3      large         210          19          1     3   \n",
      "115         3      large         210          19          1     4   \n",
      "116         3      large         211          13          2     1   \n",
      "121         3      large         212           3          3     2   \n",
      "128         3      large         214           5          1     1   \n",
      "130         3      large         214           5          1     3   \n",
      "136         3      large         216           4          3     1   \n",
      "138         3      large         216           4          3     3   \n",
      "140         3      large         217           5          3     1   \n",
      "144         3      large         218           2          1     1   \n",
      "145         3      large         218           2          1     2   \n",
      "147         3      large         218           2          1     4   \n",
      "153         3      large         220           3          1     2   \n",
      "154         3      large         220           3          1     3   \n",
      "160         3      large         222           6          1     1   \n",
      "163         3      large         222           6          1     4   \n",
      "204         5     medium         402          25          2     1   \n",
      "245         5     medium         412           6          1     2   \n",
      "\n",
      "    SalesInThousands  \n",
      "80             88.73  \n",
      "83             94.17  \n",
      "84              89.7  \n",
      "90             88.12  \n",
      "93              90.3  \n",
      "95             89.77  \n",
      "99             88.91  \n",
      "103            94.21  \n",
      "104            96.48  \n",
      "106            91.98  \n",
      "108            93.71  \n",
      "109            96.01  \n",
      "110            93.03  \n",
      "111            97.61  \n",
      "113            88.07  \n",
      "114            94.43  \n",
      "115            89.44  \n",
      "116            88.64  \n",
      "121             87.9  \n",
      "128             91.6  \n",
      "130            93.86  \n",
      "136            94.89  \n",
      "138            93.63  \n",
      "140            91.61  \n",
      "144            99.65  \n",
      "145            88.64  \n",
      "147            89.25  \n",
      "153            89.32  \n",
      "154            99.12  \n",
      "160            93.32  \n",
      "163            91.29  \n",
      "204              404  \n",
      "245             6263  \n"
     ]
    }
   ],
   "source": [
    "import matplotlib.pyplot as plt\n",
    "import seaborn as sns\n",
    "\n",
    "# Boxplot to check for outliers in 'SalesInThousands'\n",
    "plt.figure(figsize=(10, 6))\n",
    "sns.boxplot(x=df['SalesInThousands'], color='lightblue')\n",
    "plt.title('Box Plot of SalesInThousands')\n",
    "plt.xlabel('Sales (in thousands)')\n",
    "plt.show()\n",
    "\n",
    "# Calculate Q1 (25th percentile) and Q3 (75th percentile) for SalesInThousands\n",
    "Q1 = df['SalesInThousands'].quantile(0.25)\n",
    "Q3 = df['SalesInThousands'].quantile(0.75)\n",
    "IQR = Q3 - Q1\n",
    "\n",
    "# Define the upper and lower bounds for outliers\n",
    "lower_bound = Q1 - 1.5 * IQR\n",
    "upper_bound = Q3 + 1.5 * IQR\n",
    "\n",
    "# Identify outliers\n",
    "outliers = df[(df['SalesInThousands'] < lower_bound) | (df['SalesInThousands'] > upper_bound)]\n",
    "\n",
    "# Display the outliers\n",
    "print(f\"Outliers detected: {len(outliers)}\")\n",
    "print(outliers)"
   ]
  },
  {
   "cell_type": "markdown",
   "metadata": {},
   "source": [
    "3.3 Delete Outliers "
   ]
  },
  {
   "cell_type": "code",
   "execution_count": 16,
   "metadata": {},
   "outputs": [
    {
     "name": "stdout",
     "output_type": "stream",
     "text": [
      "Cleaned DataFrame:\n",
      "0        1\n",
      "1        1\n",
      "2        1\n",
      "3        1\n",
      "4        2\n",
      "      ... \n",
      "543    919\n",
      "544    920\n",
      "545    920\n",
      "546    920\n",
      "547    920\n",
      "Name: LocationID, Length: 472, dtype: int32\n"
     ]
    }
   ],
   "source": [
    "# Remove rows with the specified LocationIDs\n",
    "df_cleaned = df[~df['LocationID'].isin([202,203, 204, 205, 206, 207, 208, 209, 210, 211, 212, 214, 216, 217, 218, 220, 222, 402, 412])]\n",
    "\n",
    "# print cleaned dataframe \n",
    "print(\"Cleaned DataFrame:\")\n",
    "print(df_cleaned.LocationID)"
   ]
  },
  {
   "cell_type": "code",
   "execution_count": 17,
   "metadata": {},
   "outputs": [
    {
     "data": {
      "image/png": "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",
      "text/plain": [
       "<Figure size 1000x600 with 1 Axes>"
      ]
     },
     "metadata": {},
     "output_type": "display_data"
    }
   ],
   "source": [
    "# Boxplot to check if every outlier in 'SalesInThousands' is deleted\n",
    "plt.figure(figsize=(10, 6))\n",
    "sns.boxplot(x=df_cleaned['SalesInThousands'], color='orange')\n",
    "max_value = 76.3\n",
    "plt.xlim(21, max_value)\n",
    "plt.title('Box Plot of SalesInThousands')\n",
    "plt.xlabel('Sales (in thousands)')\n",
    "plt.show()"
   ]
  },
  {
   "cell_type": "markdown",
   "metadata": {},
   "source": [
    "3.4 Calculate the mean of Promotion by week"
   ]
  },
  {
   "cell_type": "code",
   "execution_count": 18,
   "metadata": {},
   "outputs": [
    {
     "name": "stdout",
     "output_type": "stream",
     "text": [
      "    Promotion  week SalesInThousands\n",
      "0           1     1        51.599143\n",
      "1           1     2           50.622\n",
      "2           1     3        52.912286\n",
      "3           1     4        52.118571\n",
      "4           2     1        46.064773\n",
      "5           2     2        45.975909\n",
      "6           2     3        45.908182\n",
      "7           2     4        45.046818\n",
      "8           3     1        49.002564\n",
      "9           3     2        50.539231\n",
      "10          3     3         48.07641\n",
      "11          3     4        49.216923\n"
     ]
    }
   ],
   "source": [
    "# Group by Promotion and Week and calculate the mean sales\n",
    "promotion_sales = df_cleaned.groupby(['Promotion', 'week'])['SalesInThousands'].mean().reset_index()\n",
    "\n",
    "# Display the results\n",
    "print(promotion_sales)"
   ]
  },
  {
   "cell_type": "code",
   "execution_count": 19,
   "metadata": {},
   "outputs": [
    {
     "data": {
      "image/png": "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",
      "text/plain": [
       "<Figure size 1000x600 with 1 Axes>"
      ]
     },
     "metadata": {},
     "output_type": "display_data"
    }
   ],
   "source": [
    "# Plot sales by promotion across the 4 weeks\n",
    "plt.figure(figsize=(10, 6))\n",
    "sns.lineplot(x='week', y='SalesInThousands', hue='Promotion', data=promotion_sales, marker='o')\n",
    "plt.title('Sales Performance by Promotion')\n",
    "plt.xlabel('Week')\n",
    "plt.ylabel('Sales (Thousands)')\n",
    "plt.show()"
   ]
  },
  {
   "cell_type": "markdown",
   "metadata": {},
   "source": [
    "3.4 How does MarketSize effect Sales"
   ]
  },
  {
   "cell_type": "markdown",
   "metadata": {},
   "source": [
    "3.4.1 Calculate the means"
   ]
  },
  {
   "cell_type": "code",
   "execution_count": 20,
   "metadata": {},
   "outputs": [
    {
     "name": "stdout",
     "output_type": "stream",
     "text": [
      "  MarketSize  Promotion AvgSalesInThousands\n",
      "0      large          1           60.824643\n",
      "1      large          2           57.074821\n",
      "2      large          3              60.865\n",
      "3     medium          1           47.255217\n",
      "4     medium          2           38.871635\n",
      "5     medium          3           45.468879\n",
      "6      small          1             60.1625\n",
      "7      small          2           50.810625\n",
      "8      small          3           59.514167\n"
     ]
    }
   ],
   "source": [
    "# Group by MarketSize and Promotion, then calculate average sales\n",
    "sales_by_market_promotion = df_cleaned.groupby(['MarketSize', 'Promotion'])['SalesInThousands'].mean().reset_index()\n",
    "\n",
    "# Rename the column for clarity\n",
    "sales_by_market_promotion.rename(columns={'SalesInThousands': 'AvgSalesInThousands'}, inplace=True)\n",
    "\n",
    "print(sales_by_market_promotion)\n"
   ]
  },
  {
   "cell_type": "code",
   "execution_count": 21,
   "metadata": {},
   "outputs": [
    {
     "data": {
      "image/png": "iVBORw0KGgoAAAANSUhEUgAAA+UAAAIhCAYAAAAozRucAAAAOXRFWHRTb2Z0d2FyZQBNYXRwbG90bGliIHZlcnNpb24zLjkuMiwgaHR0cHM6Ly9tYXRwbG90bGliLm9yZy8hTgPZAAAACXBIWXMAAA9hAAAPYQGoP6dpAABjnklEQVR4nO3dd3gU1f/28XsT0klCT4HQO6GjNCH0LiAiCki3UUQQBRGRiAiCSvmCYqWoNBVELCCREikiXaWIiEGCEEMnBEggOc8fPtkfSwJkYcOE8H5d114Xe+bsmc8M2YE7M3PGZowxAgAAAAAAt52b1QUAAAAAAHC3IpQDAAAAAGARQjkAAAAAABYhlAMAAAAAYBFCOQAAAAAAFiGUAwAAAABgEUI5AAAAAAAWIZQDAAAAAGARQjkAAAAAABYhlAO4I8yZM0c2m+2ar7Vr19r7njx5Uo888ogKFSokm82mjh07SpIOHjyotm3bKl++fLLZbBoyZIjL63znnXc0Z84cl4+bnJysp556SiEhIXJ3d1e1atWu2bd3796y2Wzy9/fXuXPn0i3/+++/5ebmJpvNpsjISJfWuXbtWtlsNn3xxRcuGe96+zM2NlYDBgxQ2bJl5ePjo3z58qly5cp6/PHHFRsba+8XGRkpm83mknqyo++//14tWrRQaGiovLy8FBoaqkaNGun111+/qfF69+6t4sWLu7bITHjppZdUtGhR5cqVS3ny5MnSdaX9TKS9fH19VaRIEbVs2VLTp09XQkJCus9ktF+sPNa4yvz58zV16tRM92/UqJHDvvPx8VHVqlU1depUpaamZl2hWWj8+PFaunRpuva049mV/74AQFbIZXUBAOCM2bNnq3z58unaK1asaP/zq6++qi+//FKzZs1SqVKllC9fPknS0KFD9fPPP2vWrFkKDg5WSEiIy+t75513VKBAAfXu3dul486cOVPvvfeepk+frpo1ayp37tzX7e/h4aHLly9r0aJF6tevn8Oy2bNny9/fX2fPnnVpjVnhWvvz8OHDqlGjhvLkyaNhw4apXLlyOnPmjPbs2aPPPvtMf/31l8LCwiRJjz32mFq1amVB9Vnv3XffVf/+/fXggw9qxowZypcvn2JjY7Vx40Z98cUXeuGFF6wuMVO++uorvfbaaxo1apRat24tLy+v27LeFStWKDAwUMnJyTpy5IhWrVql4cOH64033tDXX3+tqlWr2vuOHj1azzzzjMPnrTzWuMr8+fO1a9cup35xULJkSc2bN0+SFB8fr3fffVdDhw7V0aNHNXHixCyqNOuMHz9enTt3tv9SJU2NGjX0008/Ofz7AgBZgVAO4I4SHh6uWrVqXbfPrl27VKpUKXXv3j1d+7333pvuP153gl27dsnHx0eDBg3KVH9PT0/df//9mjVrlkMoN8Zozpw5evjhh/XBBx+4rL6UlBRdvnzZZePdyAcffKDjx49r8+bNKlGihL29Y8eOevHFFx3O2BUpUkRFihS5bbXdThMmTFDDhg3TXZnQo0ePO+qs5a5duyRJgwcPVqFChVwy5vnz5+Xr63vdPjVr1lSBAgXs7x955BENGjRIERERat++vf744w/7LwhKlSqVYd2341hjjNHFixfl4+PjkvFulY+Pj+rUqWN/37p1a5UvX14zZszQuHHj5OHhke4z2W0bMiMgIMBhOwEgq3D5OoAc4+DBg7LZbPrhhx+0d+9eh0vbbTab/vzzTy1fvtzefvDgQUnS2bNn9dxzz6lEiRLy9PRU4cKFNWTIECUmJjqMn5qaqunTp6tatWry8fFRnjx5VKdOHS1btkySVLx4ce3evVvR0dH2ddzoMuCLFy9q5MiRDuseOHCgTp8+be9js9n04Ycf6sKFC/ZxM3OJfN++fbVx40bt27fP3vbDDz/o77//Vp8+fdL1P3bsmAYMGKCKFSsqd+7cKlSokJo0aaJ169ZluJ8nTZqkcePGqUSJEvLy8tKaNWsyrOPs2bNq2bKlgoKCtHnzZkn/XY4/btw4lS9fXl5eXipYsKD69OmjY8eO2T93vf154sQJubm5XTPAubn93z9vV1++fr1bIRo1amTvZ4zRO++8Y//7zps3rzp37qy//vrrGnvc0fr169W0aVP5+/vL19dX9erV07fffuvQJ62WNWvWqH///ipQoIDy58+vTp066ciRIzdcx4kTJ655FvbKfSBJb7/9tho2bKhChQrJz89PlStX1qRJk3Tp0qUbriez+2LHjh1q166dChUqZL+Uvm3btjp8+PA1xy5evLheeuklSVJQUJDDbRWpqamaNGmS/eekUKFC6tmzZ7rxGjVqpPDwcP3444+qV6+efH191bdv3xtuV0aqVq2qUaNG6dChQ1q0aJG9/crL17P6WGOz2TRo0CC9++67qlChgry8vDR37lxJ0v79+9WtWzf7Pq5QoYLefvtth8+n1bFgwQKNGjVKoaGhCggIULNmzRyOB40aNdK3336rv//+2+F74CwPDw/VrFlT58+ft3+Hr7cNznw3Vq9erccff1z58+dXQECAevbsqcTERMXFxalLly7KkyePQkJC9Nxzz6X7WT558qQGDBigwoULy9PTUyVLltSoUaOUlJTksK8TExM1d+7cdMeBa12+vmzZMtWtW1e+vr7y9/dX8+bN9dNPPzn0STvu7N69W127dlVgYKCCgoLUt29fnTlzxqHv559/rtq1ayswMFC+vr4qWbLkTf/8ArhDGQC4A8yePdtIMps2bTKXLl1yeF2+fNkYY8zFixfNTz/9ZKpXr25KlixpfvrpJ/PTTz+ZM2fOmJ9++skEBweb+vXr29svXrxoEhMTTbVq1UyBAgXM5MmTzQ8//GCmTZtmAgMDTZMmTUxqaqq9hh49ehibzWYee+wx89VXX5nly5eb1157zUybNs0YY8z27dtNyZIlTfXq1e3r2L59+zW3KTU11bRs2dLkypXLjB492qxcudK8+eabxs/Pz1SvXt1cvHjRGGPMTz/9ZNq0aWN8fHzs48bHx19z3F69ehk/Pz+TmppqihUrZoYPH25f9vDDD5uGDRuaY8eOGUlmzJgx9mW///676d+/v1m4cKFZu3at+eabb0y/fv2Mm5ubWbNmjb1fTEyMkWQKFy5sGjdubL744guzcuVKExMTY9asWWMkmc8//9wYY0xsbKypXLmyKVeunDlw4IAxxpiUlBTTqlUr4+fnZ1555RUTFRVlPvzwQ1O4cGFTsWJFc/78+Rvuz08//dRIMi1atDArVqwwZ86cueb+GDNmjLnyn7v4+Hj7eGmvyZMnG0lmwIAB9n6PP/648fDwMMOGDTMrVqww8+fPN+XLlzdBQUEmLi7umuszxpi1a9caDw8PU7NmTbNo0SKzdOlS06JFC2Oz2czChQvt/dJ+rkuWLGmefvpp8/3335sPP/zQ5M2b1zRu3Pi66zDGmGbNmplcuXKZMWPGmJ07d9q/CxkZOnSomTlzplmxYoVZvXq1mTJliilQoIDp06ePQ79evXqZYsWKObRlZl+cO3fO5M+f39SqVct89tlnJjo62ixatMg89dRTZs+ePdesa/v27aZfv35GklmxYoX56aefTGxsrDHGmCeeeMJIMoMGDTIrVqww7777rilYsKAJCwszx44ds48RERFh8uXLZ8LCwsz06dPNmjVrTHR09DXXmfYzceUYV/r999+NJNOvX78M90tWH2vSvl9VqlQx8+fPN6tXrza7du0yu3fvNoGBgaZy5crm448/NitXrjTDhg0zbm5uJjIy0v75tO9h8eLFTffu3c23335rFixYYIoWLWrKlClj/znZvXu3qV+/vgkODnb4PlxPRESEqVSpUrr2GjVqmFy5ctm/v9faBme/GyVKlDDDhg0zK1euNBMnTjTu7u6ma9eupkaNGmbcuHEmKirKjBgxwkgyb731lv3zFy5cMFWqVDF+fn7mzTffNCtXrjSjR482uXLlMm3atLH3++mnn4yPj49p06aNfft3797tsB+vPP7NmzfPfuxZunSpWbRokalZs6bx9PQ069ats/dL+xkrV66cefnll01UVJSZPHmy8fLycvjObdy40dhsNvPII4+Y7777zqxevdrMnj3b9OjR47p/DwByFkI5gDtC2n/QMnq5u7s79L3WfxqLFStm2rZt69A2YcIE4+bmZrZs2eLQ/sUXXxhJ5rvvvjPGGPPjjz8aSWbUqFHXrbNSpUomIiIiU9u0YsUKI8lMmjTJoX3RokVGknn//fftbWlBOzOu7DtmzBgTHBxsLl26ZE6cOGG8vLzMnDlzMgzlV7t8+bK5dOmSadq0qXnggQfs7WmhvFSpUiY5OdnhM1eG8h07dpjQ0FDToEEDc+LECXufBQsWGElm8eLFDp/dsmWLkWTeeecde9u19mdqaqp58sknjZubm5FkbDabqVChghk6dKiJiYlx6Ht1KL/a77//bvLnz28aN25skpKSjDH//Uf96v/kG/PfLxl8fHwcftGRkTp16phChQqZhIQEe9vly5dNeHi4KVKkiD2Apf1cX/nLAGOMmTRpkpFkjh49et31/PnnnyY8PNz+XfDx8TFNmzY1M2bMSPd3c6WUlBRz6dIl8/HHHxt3d3dz8uRJ+7KrQ3lm98XWrVuNJLN06dLr1pyRjELy3r17M9w3P//8s5FkXnzxRXtbRESEkWRWrVp10+u70oULF4wk07p1a3tbRr+syIpjjTH/BdrAwECHvxdjjGnZsqUpUqRIul9CDRo0yHh7e9v7p30Prwyfxhjz2WefGUkOwbtt27bptut60rY57ZeiR44cMS+88IKRZB566KEbboOz342nn37a4fMdO3Y0kszkyZMd2qtVq2Zq1Khhf//uu+8aSeazzz5z6Ddx4kQjyaxcudLe5ufnZ3r16pVuW68O5SkpKSY0NNRUrlzZpKSk2PslJCSYQoUKmXr16tnb0n7Grj6+DxgwwHh7e9u388033zSSzOnTp9OtH8Ddg8vXAdxRPv74Y23ZssXh9fPPP9/0eN98843Cw8NVrVo1Xb582f5q2bKlw2WLy5cvlyQNHDjQFZshSVq9erUkpZvE7KGHHpKfn59WrVp1y+vo06eP/v33Xy1fvlzz5s2Tp6enHnrooWv2f/fdd1WjRg15e3srV65c8vDw0KpVq7R37950fdu3b5/hvaPSfzOCN2jQQA0bNlRUVJR9Aizpv32eJ08e3X///Q77vFq1agoODs7UTMc2m03vvvuu/vrrL73zzjvq06ePLl26pClTpqhSpUqKjo6+8c6RFBcXp1atWikkJERffvmlPD097TXabDY9+uijDjUGBweratWq160xMTFRP//8szp37uwwIZ+7u7t69Oihw4cPO1xCLP23L69UpUoVSf/NlH89pUqV0i+//KLo6Gi98soratasmbZs2aJBgwapbt26unjxor3vjh071L59e+XPn1/u7u7y8PBQz549lZKSoj/++OOa68jsvihdurTy5s2rESNG6N1339WePXuuW/uNpN0OcfX3495771WFChXSfT/y5s2rJk2a3NI60xhjXDLOlTJ7rEnTpEkT5c2b1/7+4sWLWrVqlR544AH5+vo6jNGmTRtdvHhRmzZtchjjZn+ubmT37t3y8PCQh4eHQkND9dZbb6l79+7p5qm4ehtu5rvRrl07h/cVKlSQJLVt2zZd+5XbtXr1avn5+alz584O/dJ+nm7m+Lpv3z4dOXJEPXr0cLg9JHfu3HrwwQe1adMmnT9/3uEzGf0dXLx4UfHx8ZKke+65R5LUpUsXffbZZ/rnn3+crgvAnY+J3gDcUSpUqHDDid6c8e+//+rPP/+8Zrg8fvy4pP/ut3Z3d1dwcLDL1n3ixAnlypVLBQsWdGi32WwKDg7WiRMnbnkdxYoVU9OmTTVr1iwdPHhQjzzyiHx9fdP9x1GSJk+erGHDhumpp57Sq6++qgIFCsjd3V2jR4/OMJRfb0bppUuX6sKFC+rfv3+6mbT//fdfnT592h6Ar5a2zzO7ff3797e//+yzz9S1a1c9//zz9vvXryUhIUFt2rTRpUuXtHz5cgUGBjrUaIxRUFBQhp8tWbLkNcc9deqUjDEZ7p/Q0FBJSvd3mz9/fof3afvswoUL190G6b97xxs2bKiGDRtK+i/49OvXT4sWLdKsWbM0YMAAHTp0SA0aNFC5cuU0bdo0FS9eXN7e3tq8ebMGDhx43fVkdl8EBgYqOjpar732ml588UWdOnVKISEhevzxx/XSSy9d8zt2LWn76Fr78epg6coZztPGTvv7coXMHmvSXL09J06c0OXLlzV9+nRNnz49U2Pcys/V9ZQqVUoLFy6UzWaTt7e3SpQokeGkeldvw818N678hZ4k+3Ejo/Yrfwl14sQJBQcHp7tHvlChQsqVK9dNHV9v9DOZmpqqU6dOOeyLG/0dNGzYUEuXLtX//vc/9ezZU0lJSapUqZJGjRqlrl27Ol0jgDsToRzAXa1AgQLy8fHRrFmzrrlckgoWLKiUlBTFxcW57D//+fPn1+XLl3Xs2DGHYG6MUVxcnP0Myq3q27evHn30UaWmpmrmzJnX7Pfpp5+qUaNG6fpk9MxmSdedEGrKlClatGiRWrdurS+//FItWrSwL0ubzGzFihUZftbf3/96m3NdXbp00YQJE+yzeV/LpUuX9OCDD+rAgQNat25dutnZCxQoIJvNpnXr1mX4eK7rPbIrb968cnNz09GjR9MtS5u87coZv13Nz89PI0eO1KJFi+z7YenSpUpMTNSSJUtUrFgxe9+dO3fecDxn9kXlypW1cOFCGWP066+/as6cORo7dqx8fHycfjxbWpg5evRour+fI0eOpNuHrnwWfdrkjVdO/HerMnusSXP19uTNm9d+RvlaV+xc+SSCrOTt7Z2pX45mtA2367uRP39+/fzzzzLGONQRHx+vy5cv39R6rvyZvNqRI0fk5ubmcGVAZnXo0EEdOnRQUlKSNm3apAkTJqhbt24qXry46tat6/R4AO48XL4O4K7Wrl07HThwQPnz51etWrXSvdJmW27durUkXTfUSv8FlMyehWratKmk/8LwlRYvXqzExET78lv1wAMP6IEHHlDfvn2v+3gfm82WLnT9+uuv6WYVzgxvb28tWbJE7dq1U/v27fXVV1/Zl7Vr104nTpxQSkpKhvu8XLly9r7X2p8Z/adYks6dO6fY2NgbnuHs16+f1q5dqyVLltgv6b1Su3btZIzRP//8k2GNlStXvubYfn5+ql27tpYsWeJQe2pqqj799FMVKVJEZcuWvW59mXWt/ZB2ZUPafkgLJVf+/RpjMvVYvJvZFzabTVWrVtWUKVOUJ08ebd++3eltS7sU/ervx5YtW7R3716XfT+u9ssvv2j8+PEqXry4unTp4rJxM3usuRZfX181btxYO3bsUJUqVTIc4+qzspnhzDHrVt3O70bTpk117tw5LV261KH9448/ti9Pk9l9UK5cORUuXFjz5893uMUhMTFRixcvts/IfrO8vLwUERFhf9b7jh07bnosAHcWzpQDuKPs2rUrw+dhlypVKt1l4JkxZMgQLV68WA0bNtTQoUNVpUoVpaam6tChQ1q5cqWGDRum2rVrq0GDBurRo4fGjRunf//9V+3atZOXl5d27NghX19fPf3005L+70zhokWLVLJkSXl7e18zwDVv3lwtW7bUiBEjdPbsWdWvX1+//vqrxowZo+rVq6tHjx5Ob09GvL290z3HOiPt2rXTq6++qjFjxigiIkL79u3T2LFjVaJEiZt6BrmHh4cWLFigxx57TJ07d9bHH3+srl276pFHHtG8efPUpk0bPfPMM7r33nvl4eGhw4cPa82aNerQoYMeeOABSdfen6+99po2bNighx9+2P6YrpiYGM2YMUMnTpzQG2+8cc263njjDX3yySd6+umn5efn53AfbkBAgCpWrKj69evriSeeUJ8+fbR161Y1bNhQfn5+Onr0qNavX6/KlSs7XDZ/tQkTJqh58+Zq3LixnnvuOXl6euqdd97Rrl27tGDBAped1a1UqZKaNm2q1q1bq1SpUrp48aJ+/vlnvfXWWwoKCrI/o7558+by9PRU165dNXz4cF28eFEzZ87UqVOnbriOzO6Lb775Ru+88446duyokiVLyhijJUuW6PTp02revLnT21auXDk98cQTmj59utzc3NS6dWsdPHhQo0ePVlhYmIYOHer0mFfbtm2bAgMDdenSJR05ckSrVq3SJ598okKFCunrr7++5i0WNyOzx5rrmTZtmu677z41aNBA/fv3V/HixZWQkKA///xTX3/9tX2eCmdUrlxZS5Ys0cyZM1WzZk25ubm59Bahq92u70bPnj319ttvq1evXjp48KAqV66s9evXa/z48WrTpo2aNWtm71u5cmWtXbtWX3/9tUJCQuTv7+/wy8E0bm5umjRpkrp376527drpySefVFJSkt544w2dPn1ar7/+utN1vvzyyzp8+LCaNm2qIkWK6PTp05o2bZo8PDwUERFxS/sAwB3EkunlAMBJ15t9XZL54IMP7H2dmRHZmP8e5fTSSy+ZcuXKGU9PT/sjh4YOHerw6KuUlBQzZcoUEx4ebu9Xt25d8/XXX9v7HDx40LRo0cL4+/sbSTec1fjChQtmxIgRplixYsbDw8OEhISY/v37m1OnTjn0u9nZ168lo9nXk5KSzHPPPWcKFy5svL29TY0aNczSpUvTzTqdNvv6G2+8kW7cqx+JZsx/M6UPHjzYuLm52f+eLl26ZN58801TtWpV4+3tbXLnzm3Kly9vnnzySbN//377Z6+1Pzdt2mQGDhxoqlatavLly2fc3d1NwYIFTatWrRxmsTYm/ezrvXr1uubP0dUzvc+aNcvUrl3b+Pn5GR8fH1OqVCnTs2dPs3Xr1uvuX2OMWbdunWnSpIn9s3Xq1HH4WTHm/36ur56RO6NHMWXkvffeM506dTIlS5Y0vr6+xtPT05QqVco89dRT9seKpfn666/t+7tw4cLm+eefN8uXL0+3noxmGc/Mvvj9999N165dTalSpYyPj48JDAw09957r5kzZ84N99W1ZkNPSUkxEydONGXLljUeHh6mQIEC5tFHH023bdf6zt9ofWkvLy8vExISYlq0aGGmTZtmzp49m+4ztzr7ujGZP9ZIMgMHDsyw9piYGNO3b19TuHBh4+HhYQoWLGjq1atnxo0bZ++T0fcw7bOSzOzZs+1tJ0+eNJ07dzZ58uQxNpvtuk8quN42X+1623Ar341r/axkdNw7ceKEeeqpp0xISIjJlSuXKVasmBk5cqT9cZNpdu7caerXr298fX0djgPX+h4uXbrU1K5d23h7exs/Pz/TtGlTs2HDhkzVmbZdaU+J+Oabb0zr1q1N4cKFjaenpylUqJBp06aNw+PVAOR8NmOyYIpRAAAAAABwQ9xTDgAAAACARQjlAAAAAABYhFAOAAAAAIBFCOUAAAAAAFiEUA4AAAAAgEUI5QAAAAAAWCSX1QVktdTUVB05ckT+/v6y2WxWlwMAAAAAyOGMMUpISFBoaKjc3K5/LjzHh/IjR44oLCzM6jIAAAAAAHeZ2NhYFSlS5Lp9cnwo9/f3l/TfzggICLC4GgAAAABATnf27FmFhYXZ8+j15PhQnnbJekBAAKEcAAAAAHDbZOYWaiZ6AwAAAADAIoRyAAAAAAAsQigHAAAAAMAiOf6ecgAAsjNjjC5fvqyUlBSrS7njuLu7K1euXDzyFABwRyOUAwBgkeTkZB09elTnz5+3upQ7lq+vr0JCQuTp6Wl1KQAA3BRCOQAAFkhNTVVMTIzc3d0VGhoqT09Pzvg6wRij5ORkHTt2TDExMSpTpozc3LgrDwBw5yGUAwBggeTkZKWmpiosLEy+vr5Wl3NH8vHxkYeHh/7++28lJyfL29vb6pIAAHAav1IGAMBCnN29New/AMCdjn/JAAAAAACwCKEcAAAAAACLEMoBAECWsNlsWrp0qdVlAACQrRHKAQDIhnr37i2bzSabzSYPDw+VLFlSzz33nBITE60uLZ3IyEhVq1YtXfvRo0fVunXr218QAAB3EGZfBwAgm2rVqpVmz56tS5cuad26dXrssceUmJiomTNnOvS7dOmSPDw8LKry2oKDg60uAQCAbI8z5QAAZFNeXl4KDg5WWFiYunXrpu7du2vp0qX2M9OzZs1SyZIl5eXlJWOMDh06pA4dOih37twKCAhQly5d9O+//9rHu/JzRYsWVe7cudW/f3+lpKRo0qRJCg4OVqFChfTaa6851HG9cefMmaNXXnlFv/zyi/3M/pw5cySlv3z9t99+U5MmTeTj46P8+fPriSee0Llz5+zLe/furY4dO+rNN99USEiI8ufPr4EDB+rSpUtZt5MBALAYZ8oBALhD+Pj42APqn3/+qc8++0yLFy+Wu7u7JKljx47y8/NTdHS0Ll++rAEDBujhhx/W2rVr7WMcOHBAy5cv14oVK3TgwAF17txZMTExKlu2rKKjo7Vx40b17dtXTZs2VZ06dWSMue64Dz/8sHbt2qUVK1bohx9+kCQFBgamq/38+fNq1aqV6tSpoy1btig+Pl6PPfaYBg0aZA/xkrRmzRqFhIRozZo1+vPPP/Xwww+rWrVqevzxx7NuxwIAYCFCOQAAd4DNmzdr/vz5atq0qSQpOTlZn3zyiQoWLChJioqK0q+//qqYmBiFhYVJkj755BNVqlRJW7Zs0T333CNJSk1N1axZs+Tv76+KFSuqcePG2rdvn7777ju5ubmpXLlymjhxotauXas6derohx9+uOG4uXPnVq5cua57ufq8efN04cIFffzxx/Lz85MkzZgxQ/fff78mTpyooKAgSVLevHk1Y8YMubu7q3z58mrbtq1WrVpFKAcA5Fhcvg4AQDb1zTffKHfu3PL29lbdunXVsGFDTZ8+XZJUrFgxeyCXpL179yosLMwenCWpYsWKypMnj/bu3WtvK168uPz9/e3vg4KCVLFiRbm5uTm0xcfHOzXujezdu1dVq1a1B3JJql+/vlJTU7Vv3z57W6VKlexn/iUpJCTEXgsAADkRZ8oBAMimGjdurJkzZ8rDw0OhoaEOk7ldGW4lyRgjm82Wboyr26+eEC5tdver21JTU50a90au1/9G9aXVAgBATsSZcgAAsik/Pz+VLl1axYoVu+Hs6hUrVtShQ4cUGxtrb9uzZ4/OnDmjChUq3HQNmRnX09NTKSkpNxxn586dDo9027Bhg9zc3FS2bNmbrg8AgDsdZ8qzWPzuX6wuIccoVKmq1SXkCFVK1be6hBzj1wMbrC4BsGvWrJmqVKmi7t27a+rUqfYJ2SIiIlSrVq0sHbd48eKKiYnRzp07VaRIEfn7+8vLy8thnO7du2vMmDHq1auXIiMjdezYMT399NPq0aOH/X5yAADuRpwpBwAgB0h7/FjevHnVsGFDNWvWTCVLltSiRYuyfNwHH3xQrVq1UuPGjVWwYEEtWLAg3Ti+vr76/vvvdfLkSd1zzz3q3LmzmjZtqhkzZtxSfQAA3OlsxhhjZQH//POPRowYoeXLl+vChQsqW7asPvroI9WsWVPSf/egvfLKK3r//fd16tQp1a5dW2+//bYqVaqUqfHPnj2rwMBAnTlzRgEBAVm5KRniTLnrcKbcNThT7jqcKcetuHjxomJiYlSiRAl5e3tbXc4di/0IAMiOnMmhlp4pP3XqlOrXry8PDw8tX75ce/bs0VtvvaU8efLY+0yaNEmTJ0/WjBkztGXLFgUHB6t58+ZKSEiwrnAAAAAAAFzA0nvKJ06cqLCwMM2ePdveVrx4cfufjTGaOnWqRo0apU6dOkmS5s6dq6CgIM2fP19PPvnk7S4ZAAAAAACXsTSUL1u2TC1bttRDDz2k6OhoFS5cWAMGDNDjjz8uSYqJiVFcXJxatGhh/4yXl5ciIiK0cePGDEN5UlKSkpKS7O/Pnj2b9RsCAACAOxa3G7oOtxsCzrP08vW//vpLM2fOVJkyZfT999/rqaee0uDBg/Xxxx9LkuLi4iQp3aysQUFB9mVXmzBhggIDA+2vsLCwrN0IAAAAAABukqWhPDU1VTVq1ND48eNVvXp1Pfnkk3r88cc1c+ZMh342m83hvTEmXVuakSNH6syZM/bXlc9VBQAAAAAgO7E0lIeEhKhixYoObRUqVNChQ4ckScHBwZKU7qx4fHz8NZ9p6uXlpYCAAIcXAAAAAADZkaX3lNevX1/79u1zaPvjjz9UrFgxSVKJEiUUHBysqKgoVa9eXZKUnJys6OhoTZw48bbXCwAAAABZjUfYus6d8AhbS0P50KFDVa9ePY0fP15dunTR5s2b9f777+v999+X9N9l60OGDNH48eNVpkwZlSlTRuPHj5evr6+6detmZekAAAAAANwyS0P5Pffcoy+//FIjR47U2LFjVaJECU2dOlXdu3e39xk+fLguXLigAQMG6NSpU6pdu7ZWrlwpf39/CysHAAAAAODWWRrKJaldu3Zq167dNZfbbDZFRkYqMjLy9hUFAMAd4nY/yonHHQEA4FqWTvQGAAByvh9//FH333+/QkNDZbPZtHTpUqtLAgAg2yCUAwCALJWYmKiqVatqxowZVpcCAEC2Y/nl6wAAIGdr3bq1WrdubXUZAABkS5wpBwAAAADAIoRyAAAAAAAsQigHAAAAAMAihHIAAAAAACxCKAcAAAAAwCLMvg4AALLUuXPn9Oeff9rfx8TEaOfOncqXL5+KFi1qYWUAAFiPUA4AwB2sUKWqVpdwQ1u3blXjxo3t75999llJUq9evTRnzhyLqgIAIHsglAMAgCzVqFEjGWOsLgMAgGyJe8oBAAAAALAIoRwAAAAAAIsQygEAAAAAsAj3lOOO8fGQyVaXAAAAAAAuxZlyAAAAAAAsQigHAAAAAMAihHIAAAAAACxCKAcAAAAAwCKEcgAAAAAALMLs6wAA3MFu95Mpek599rauDwCAnI4z5QAAIMtMmDBB99xzj/z9/VWoUCF17NhR+/bts7osAACyDUI5AADIMtHR0Ro4cKA2bdqkqKgoXb58WS1atFBiYqLVpQEAkC1w+ToAAMgyK1ascHg/e/ZsFSpUSNu2bVPDhg0tqgoAgOyDM+UAAOC2OXPmjCQpX758FlcCAED2QCgHAAC3hTFGzz77rO677z6Fh4dbXQ4AANkCl68DAIDbYtCgQfr111+1fv16q0sBACDbIJQDAIAs9/TTT2vZsmX68ccfVaRIEavLAQAg2yCUAwCALGOM0dNPP60vv/xSa9euVYkSJawuCQCAbIVQDgAAsszAgQM1f/58ffXVV/L391dcXJwkKTAwUD4+PhZXBwCA9QjlAADcwXpOfdbqEq5r5syZkqRGjRo5tM+ePVu9e/e+/QUBAJDNEMoBAECWMcZYXQIAANkaj0QDAAAAAMAihHIAAAAAACxCKAcAAAAAwCKEcgAAAAAALEIoBwAAAADAIoRyAAAAAAAsQigHAAAAAMAihHIAAAAAACxCKAcAAAAAwCK5rC4AAADcvCql6t/W9f16YMNtXR8AADkdZ8oBAECWmTlzpqpUqaKAgAAFBASobt26Wr58udVlAQCQbRDKAQBAlilSpIhef/11bd26VVu3blWTJk3UoUMH7d692+rSAADIFrh8HQAAZJn777/f4f1rr72mmTNnatOmTapUqZJFVQEAkH0QygEAwG2RkpKizz//XImJiapbt67V5QAAkC0QygEAQJb67bffVLduXV28eFG5c+fWl19+qYoVK1pdFgAA2QL3lAMAgCxVrlw57dy5U5s2bVL//v3Vq1cv7dmzx+qyAADIFjhTDgAAspSnp6dKly4tSapVq5a2bNmiadOm6b333rO4MgAArMeZcgAAcFsZY5SUlGR1GQAAZAucKQcAAFnmxRdfVOvWrRUWFqaEhAQtXLhQa9eu1YoVK6wuDQCAbIFQDgDAHezXAxusLuG6/v33X/Xo0UNHjx5VYGCgqlSpohUrVqh58+ZWlwYAQLZAKAcAAFnmo48+sroEAACyNe4pBwAAAADAIoRyAAAAAAAsQigHAAAAAMAihHIAAAAAACxCKAcAwELGGKtLuKOx/wAAdzpCOQAAFvDw8JAknT9/3uJK7mxp+y9tfwIAcKfhkWgAAFjA3d1defLkUXx8vCTJ19dXNpvN4qruHMYYnT9/XvHx8cqTJ4/c3d2tLgmApI+HTLa6BOCOQygHAMAiwcHBkmQP5nBenjx57PsRAIA7kaWhPDIyUq+88opDW1BQkOLi4iT991vwV155Re+//75OnTql2rVr6+2331alSpWsKBcAAJey2WwKCQlRoUKFdOnSJavLueN4eHhwhhwAcMez/Ex5pUqV9MMPP9jfX/mP66RJkzR58mTNmTNHZcuW1bhx49S8eXPt27dP/v7+VpQLAIDLubu7Ey4BALhLWT7RW65cuRQcHGx/FSxYUNJ/Z8mnTp2qUaNGqVOnTgoPD9fcuXN1/vx5zZ8/3+KqAQAAAAC4dZaH8v379ys0NFQlSpTQI488or/++kuSFBMTo7i4OLVo0cLe18vLSxEREdq4ceM1x0tKStLZs2cdXgAAAAAAZEeWhvLatWvr448/1vfff68PPvhAcXFxqlevnk6cOGG/rzwoKMjhM1fec56RCRMmKDAw0P4KCwvL0m0AAAAAAOBmWRrKW7durQcffFCVK1dWs2bN9O2330qS5s6da+9z9eNhjDHXfWTMyJEjdebMGfsrNjY2a4oHAAAAAOAWWX75+pX8/PxUuXJl7d+/3/54k6vPisfHx6c7e34lLy8vBQQEOLwAAAAAAMiOslUoT0pK0t69exUSEqISJUooODhYUVFR9uXJycmKjo5WvXr1LKwSAAAAAADXsPSRaM8995zuv/9+FS1aVPHx8Ro3bpzOnj2rXr16yWazaciQIRo/frzKlCmjMmXKaPz48fL19VW3bt2sLBsAAAAAAJewNJQfPnxYXbt21fHjx1WwYEHVqVNHmzZtUrFixSRJw4cP14ULFzRgwACdOnVKtWvX1sqVK3lGOQAAAAAgR7A0lC9cuPC6y202myIjIxUZGXl7CgIAAAAA4DbKVveUAwAAAABwNyGUAwAAAABgEUI5AAAAAAAWIZQDAAAAAGARQjkAAAAAABYhlAMAAAAAYBFCOQAAAAAAFiGUAwAAAABgEUI5AAAAAAAWIZQDAAAAAGARQjkAAAAAABYhlAMAAAAAYBFCOQAAAAAAFslldQEAgDtL/O5frC4hxyhUqarVJQAAAItxphwAAAAAAIsQygEAAAAAsAihHAAAAAAAixDKAQAAAACwCKEcAAAAAACLEMoBAAAAALAIoRwAAAAAAIsQygEAAAAAsAihHAAAAAAAixDKAQAAAACwCKEcAAAAAACL5HL2A0lJSdq8ebMOHjyo8+fPq2DBgqpevbpKlCiRFfUBAAAAAJBjZTqUb9y4UdOnT9fSpUuVnJysPHnyyMfHRydPnlRSUpJKliypJ554Qk899ZT8/f2zsmYAAAC7KqXqW11CjvHrgQ1WlwAAd51MXb7eoUMHde7cWYULF9b333+vhIQEnThxQocPH9b58+e1f/9+vfTSS1q1apXKli2rqKiorK4bAAAAAIA7XqbOlLdo0UKff/65PD09M1xesmRJlSxZUr169dLu3bt15MgRlxYJAAAAAEBOlKlQPnDgwEwPWKlSJVWqVOmmCwIAAAAA4G7h9OzrsbGxOnz4sP395s2bNWTIEL3//vsuLQwAAAAAgJzO6VDerVs3rVmzRpIUFxen5s2ba/PmzXrxxRc1duxYlxcIAAAAAEBO5XQo37Vrl+69915J0meffabw8HBt3LhR8+fP15w5c1xdHwAAAAAAOZbTofzSpUvy8vKSJP3www9q3769JKl8+fI6evSoa6sDAAAAACAHczqUV6pUSe+++67WrVunqKgotWrVSpJ05MgR5c+f3+UFAgAAAACQUzkdyidOnKj33ntPjRo1UteuXVW1alVJ0rJly+yXtQMAAAAAgBvL1CPRrtSoUSMdP35cZ8+eVd68ee3tTzzxhHx9fV1aHAAAAAAAOZnToVyS3N3dHQK5JBUvXtwV9QAAAAAAcNfIVCivXr26bDZbpgbcvn37LRUEAAAAAMDdIlOhvGPHjvY/X7x4Ue+8844qVqyounXrSpI2bdqk3bt3a8CAAVlSJAAAAAAAOVGmQvmYMWPsf37sscc0ePBgvfrqq+n6xMbGurY6AAAAAAByMKdnX//888/Vs2fPdO2PPvqoFi9e7JKiAAAAAAC4Gzgdyn18fLR+/fp07evXr5e3t7dLigIAAAAA4G7g9OzrQ4YMUf/+/bVt2zbVqVNH0n/3lM+aNUsvv/yyywsEAAAAACCncjqUv/DCCypZsqSmTZum+fPnS5IqVKigOXPmqEuXLi4vEAAAAACAnOqmnlPepUsXAjgAAAAAALfopkK5JCUnJys+Pl6pqakO7UWLFr3logAAAAAAuBs4Hcr379+vvn37auPGjQ7txhjZbDalpKS4rDgAAAAAAHIyp0N57969lStXLn3zzTcKCQmRzWbLiroAAAAAAMjxnA7lO3fu1LZt21S+fPmsqAcAAAAAgLuG088pr1ixoo4fP54VtQAAAAAAcFdxOpRPnDhRw4cP19q1a3XixAmdPXvW4QUAAAAAADLH6cvXmzVrJklq2rSpQzsTvQEAAAAA4BynQ/maNWuyog4AAAAAAO46TofyiIiIrKgDAAAAAIC7jtOhPM358+d16NAhJScnO7RXqVLllosCAAAAAOBu4HQoP3bsmPr06aPly5dnuJx7ygEAAAAAyBynZ18fMmSITp06pU2bNsnHx0crVqzQ3LlzVaZMGS1btiwragQAAAAAIEdy+kz56tWr9dVXX+mee+6Rm5ubihUrpubNmysgIEATJkxQ27Zts6JOAAAAAAByHKfPlCcmJqpQoUKSpHz58unYsWOSpMqVK2v79u2urQ4AAAAAgBzM6VBerlw57du3T5JUrVo1vffee/rnn3/07rvvKiQkxOUFAgAAAACQUzl9+fqQIUN09OhRSdKYMWPUsmVLzZs3T56enpozZ46r6wMAAAAAIMdy+kx59+7d1bt3b0lS9erVdfDgQW3ZskWxsbF6+OGHb7qQCRMmyGazaciQIfY2Y4wiIyMVGhoqHx8fNWrUSLt3777pdQAAAAAAkJ04Hcqv5uXlJTc3N7m7u9/0GFu2bNH777+f7hnnkyZN0uTJkzVjxgxt2bJFwcHBat68uRISEm61bAAAAAAALHdTj0T76KOPJP33TPKGDRuqRo0aCgsL09q1a50u4Ny5c+revbs++OAD5c2b195ujNHUqVM1atQoderUSeHh4Zo7d67Onz+v+fPnO70eAAAAAACyG6dD+RdffKGqVatKkr7++msdPHhQv//+u4YMGaJRo0Y5XcDAgQPVtm1bNWvWzKE9JiZGcXFxatGihb3Ny8tLERER2rhx4zXHS0pK0tmzZx1eAAAAAABkR06H8uPHjys4OFiS9N133+mhhx5S2bJl1a9fP/32229OjbVw4UJt375dEyZMSLcsLi5OkhQUFOTQHhQUZF+WkQkTJigwMND+CgsLc6omAAAAAABuF6dDeVBQkPbs2aOUlBStWLHCfob7/PnzTt1XHhsbq2eeeUaffvqpvL29r9nPZrM5vDfGpGu70siRI3XmzBn7KzY2NtM1AQAAAABwOzn9SLQ+ffqoS5cuCgkJkc1mU/PmzSVJP//8s8qXL5/pcbZt26b4+HjVrFnT3paSkqIff/xRM2bMsD8LPS4uzuH55/Hx8enOnl/Jy8tLXl5ezm4WAAAAAAC3ndOhPDIyUuHh4YqNjdVDDz1kD8Du7u564YUXMj1O06ZN013u3qdPH5UvX14jRoxQyZIlFRwcrKioKFWvXl2SlJycrOjoaE2cONHZsgEAAAAAyHacDuWS1Llz53RtvXr1cmoMf39/hYeHO7T5+fkpf/789vYhQ4Zo/PjxKlOmjMqUKaPx48fL19dX3bp1u5myAQAAAADIVpwO5WPHjr3u8pdffvmmi7na8OHDdeHCBQ0YMECnTp1S7dq1tXLlSvn7+7tsHQAAAAAAWMXpUP7ll186vL906ZJiYmKUK1culSpV6pZC+dXPObfZbIqMjFRkZORNjwkAAAAAQHbldCjfsWNHurazZ8+qd+/eeuCBB1xSFAAAAAAAd4Obuqf8agEBARo7dqzatWunHj16uGJIAAByvI+HTLa6BAAAYDGnn1N+LadPn9aZM2dcNRwAAAAAADme02fK//e//zm8N8bo6NGj+uSTT9SqVSuXFQYAAAAAQE7ndCifMmWKw3s3NzcVLFhQvXr10siRI11WGAAAAAAAOZ3ToTwmJiYr6gAAAAAA4K5zS/eUHz58WP/884+ragEAAAAA4K7idChPTU3V2LFjFRgYqGLFiqlo0aLKkyePXn31VaWmpmZFjQAAAAAA5EhOX74+atQoffTRR3r99ddVv359GWO0YcMGRUZG6uLFi3rttdeyok4AAAAAAHIcp0P53Llz9eGHH6p9+/b2tqpVq6pw4cIaMGAAoRwAAAAAgExy+vL1kydPqnz58unay5cvr5MnT7qkKAAAAAAA7gZOh/KqVatqxowZ6dpnzJihqlWruqQoAAAAAADuBk5fvj5p0iS1bdtWP/zwg+rWrSubzaaNGzcqNjZW3333XVbUCAAAAABAjuT0mfKIiAj98ccfeuCBB3T69GmdPHlSnTp10r59+9SgQYOsqBEAAAAAgBzJ6TPlkhQaGsqEbgAAAAAA3KKbCuWnT5/W5s2bFR8fn+7Z5D179nRJYQAAAAAA5HROh/Kvv/5a3bt3V2Jiovz9/WWz2ezLbDYboRwAAAAAgExy+p7yYcOGqW/fvkpISNDp06d16tQp+4tHogEAAAAAkHlOh/J//vlHgwcPlq+vb1bUAwAAAADAXcPpUN6yZUtt3bo1K2oBAAAAAOCukql7ypctW2b/c9u2bfX8889rz549qly5sjw8PBz6tm/f3rUVAgAAAACQQ2UqlHfs2DFd29ixY9O12Ww2paSk3HJRAAAAAADcDTIVyq9+7BkAAAAAALh1Tt9T/vHHHyspKSlde3Jysj7++GOXFAUAAAAAwN3A6VDep08fnTlzJl17QkKC+vTp45KiAAAAAAC4Gzgdyo0xstls6doPHz6swMBAlxQFAAAAAMDdIFP3lEtS9erVZbPZZLPZ1LRpU+XK9X8fTUlJUUxMjFq1apUlRQIAAAAAkBNlOpSnzcC+c+dOtWzZUrlz57Yv8/T0VPHixfXggw+6vEAAAAAAAHKqTIfyMWPGSJKKFy+uhx9+WN7e3llWFAAAAAAAd4NMh/I0vXr1yoo6AAAAAAC46zg90RsAAAAAAHANQjkAAAAAABYhlAMAAAAAYBFCOQAAAAAAFnF6oreUlBTNmTNHq1atUnx8vFJTUx2Wr1692mXFAQAAAACQkzkdyp955hnNmTNHbdu2VXh4uGw2W1bUBQAAAABAjud0KF+4cKE+++wztWnTJivqAQAAAADgruH0PeWenp4qXbp0VtQCAAAAAMBdxelQPmzYME2bNk3GmKyoBwAAAACAu4bTl6+vX79ea9as0fLly1WpUiV5eHg4LF+yZInLigMAAAAAICdzOpTnyZNHDzzwQFbUAgAAAADAXcXpUD579uysqAMAAAAAgLuO0/eUAwAAAAAA18jUmfIaNWpo1apVyps3r6pXr37dZ5Nv377dZcUBAAAAAJCTZSqUd+jQQV5eXpKkjh07ZmU9AAAAAADcNTIVyseMGZPhnwEAAAAAwM3LknvKeYY5AAAAAAA3lqlQXqFCBc2fP1/JycnX7bd//371799fEydOdElxAAAAAADkZJm6fP3tt9/WiBEjNHDgQLVo0UK1atVSaGiovL29derUKe3Zs0fr16/Xnj17NGjQIA0YMCCr6wYAAAAA4I6XqVDepEkTbdmyRRs3btSiRYs0f/58HTx4UBcuXFCBAgVUvXp19ezZU48++qjy5MmTxSUDAAAAAJAzZCqUp6lXr57q1auXVbUAAAAAAHBXyZKJ3gAAAAAAwI0RygEAAAAAsAihHAAAAAAAixDKAQAAAACwCKEcAAAAAACLOB3Kt2/frt9++83+/quvvlLHjh314osvKjk52aXFAQAAAACQkzkdyp988kn98ccfkqS//vpLjzzyiHx9ffX5559r+PDhLi8QAAAAAICcyulQ/scff6hatWqSpM8//1wNGzbU/PnzNWfOHC1evNjV9QEAAAAAkGM5HcqNMUpNTZUk/fDDD2rTpo0kKSwsTMePH3dtdQAAAAAA5GBOh/JatWpp3Lhx+uSTTxQdHa22bdtKkmJiYhQUFOTyAgEAAAAAyKmcDuVTp07V9u3bNWjQII0aNUqlS5eWJH3xxReqV6+eU2PNnDlTVapUUUBAgAICAlS3bl0tX77cvtwYo8jISIWGhsrHx0eNGjXS7t27nS0ZAAAAAIBsKZezH6hSpYrD7Otp3njjDbm7uzs1VpEiRfT666/bg/3cuXPVoUMH7dixQ5UqVdKkSZM0efJkzZkzR2XLltW4cePUvHlz7du3T/7+/s6WDgAAAABAtnJTzyk/ffq0PvzwQ40cOVInT56UJO3Zs0fx8fFOjXP//ferTZs2Klu2rMqWLavXXntNuXPn1qZNm2SM0dSpUzVq1Ch16tRJ4eHhmjt3rs6fP6/58+ffTNkAAAAAAGQrTofyX3/9VWXKlNHEiRP15ptv6vTp05KkL7/8UiNHjrzpQlJSUrRw4UIlJiaqbt26iomJUVxcnFq0aGHv4+XlpYiICG3cuPGa4yQlJens2bMOLwAAAAAAsiOnQ/mzzz6rPn36aP/+/fL29ra3t27dWj/++KPTBfz222/KnTu3vLy89NRTT+nLL79UxYoVFRcXJ0npJo8LCgqyL8vIhAkTFBgYaH+FhYU5XRMAAAAAALeD06F8y5YtevLJJ9O1Fy5c+Lph+VrKlSunnTt3atOmTerfv7969eqlPXv22JfbbDaH/saYdG1XGjlypM6cOWN/xcbGOl0TAAAAAAC3g9MTvXl7e2d4Sfi+fftUsGBBpwvw9PS0T/RWq1YtbdmyRdOmTdOIESMkSXFxcQoJCbH3j4+Pv+6j17y8vOTl5eV0HQAAAAAA3G5Onynv0KGDxo4dq0uXLkn670z2oUOH9MILL+jBBx+85YKMMUpKSlKJEiUUHBysqKgo+7Lk5GRFR0c7/eg1AAAAAACyI6fPlL/55ptq06aNChUqpAsXLigiIkJxcXGqW7euXnvtNafGevHFF9W6dWuFhYUpISFBCxcu1Nq1a7VixQrZbDYNGTJE48ePV5kyZVSmTBmNHz9evr6+6tatm7NlAwAAAACQ7TgdygMCArR+/XqtXr1a27dvV2pqqmrUqKFmzZo5vfJ///1XPXr00NGjRxUYGKgqVapoxYoVat68uSRp+PDhunDhggYMGKBTp06pdu3aWrlyJc8oBwAAAADkCE6H8jRNmjRRkyZNbmnlH3300XWX22w2RUZGKjIy8pbWAwAAAABAdpSpUP6///0v0wMOHjz4posBAAAAAOBukqlQPmXKlEwNZrPZCOUAAAAAAGRSpkJ5TExMVtcBAAAAAMBdx+lHogEAAAAAANe4qYneDh8+rGXLlunQoUNKTk52WDZ58mSXFAYAAAAAQE7ndChftWqV2rdvrxIlSmjfvn0KDw/XwYMHZYxRjRo1sqJGAAAAAAByJKcvXx85cqSGDRumXbt2ydvbW4sXL1ZsbKwiIiL00EMPZUWNAAAAAADkSE6H8r1796pXr16SpFy5cunChQvKnTu3xo4dq4kTJ7q8QAAAAAAAciqnQ7mfn5+SkpIkSaGhoTpw4IB92fHjx11XGQAAAAAAOZzT95TXqVNHGzZsUMWKFdW2bVsNGzZMv/32m5YsWaI6depkRY0AAAAAAORITofyyZMn69y5c5KkyMhInTt3TosWLVLp0qU1ZcoUlxcIAAAAAEBO5XQoL1mypP3Pvr6+euedd1xaEAAAAAAAd4ubek55mosXL2rRokU6f/68mjdvrtKlS7uqLgAAAAAAcrxMh/Lnn39eycnJmjZtmiQpOTlZdevW1e7du+Xr66vnn39eUVFRqlu3bpYVCwAAAABATpLp2deXL1+upk2b2t/PmzdPf//9t/bv369Tp07poYce0rhx47KkSAAAAAAAcqJMh/JDhw6pYsWK9vcrV65U586dVaxYMdlsNj3zzDPasWNHlhQJAAAAAEBOlOlQ7ubmJmOM/f2mTZscHoGWJ08enTp1yrXVAQAAAACQg2U6lJcvX15ff/21JGn37t06dOiQGjdubF/+999/KygoyPUVAgAAAACQQzk10VvXrl317bffavfu3WrTpo1KlChhX/7dd9/p3nvvzZIiAQAAAADIiTJ9pvzBBx/Ud999pypVqmjo0KFatGiRw3JfX18NGDDA5QUCAAAAAJBTOfWc8mbNmqlZs2YZLhszZoxLCgIAAAAA4G6R6TPlAAAAAADAtQjlAAAAAABYhFAOAAAAAIBFCOUAAAAAAFjkpkL55cuX9cMPP+i9995TQkKCJOnIkSM6d+6cS4sDAAAAACAnc2r2dUn6+++/1apVKx06dEhJSUlq3ry5/P39NWnSJF28eFHvvvtuVtQJAAAAAECO4/SZ8meeeUa1atXSqVOn5OPjY29/4IEHtGrVKpcWBwAAAABATub0mfL169drw4YN8vT0dGgvVqyY/vnnH5cVBgAAAABATuf0mfLU1FSlpKSkaz98+LD8/f1dUhQAAAAAAHcDp0N58+bNNXXqVPt7m82mc+fOacyYMWrTpo0rawMAAAAAIEdz+vL1KVOmqHHjxqpYsaIuXryobt26af/+/SpQoIAWLFiQFTUCAAAAAJAjOR3KQ0NDtXPnTi1YsEDbt29Xamqq+vXrp+7duztM/AYAAAAAAK7P6VAuST4+Purbt6/69u3r6noAAAAAALhrOB3Kly1blmG7zWaTt7e3SpcurRIlStxyYQAAAAAA5HROh/KOHTvKZrPJGOPQntZms9l03333aenSpcqbN6/LCgUAAAAAIKdxevb1qKgo3XPPPYqKitKZM2d05swZRUVF6d5779U333yjH3/8USdOnNBzzz2XFfUCAAAAAJBjOH2m/JlnntH777+vevXq2duaNm0qb29vPfHEE9q9e7emTp3K/eYAAAAAANyA02fKDxw4oICAgHTtAQEB+uuvvyRJZcqU0fHjx2+9OgAAAAAAcjCnQ3nNmjX1/PPP69ixY/a2Y8eOafjw4brnnnskSfv371eRIkVcVyUAAAAAADmQ05evf/TRR+rQoYOKFCmisLAw2Ww2HTp0SCVLltRXX30lSTp37pxGjx7t8mIBAAAAAMhJnA7l5cqV0969e/X999/rjz/+kDFG5cuXV/PmzeXm9t+J944dO7q6TgAAAAAAchynQ7n03+PPWrVqpVatWrm6HgAAAAAA7ho3FcoTExMVHR2tQ4cOKTk52WHZ4MGDXVIYAAAAAAA5ndOhfMeOHWrTpo3Onz+vxMRE5cuXT8ePH5evr68KFSpEKAcAAAAAIJOcnn196NChuv/++3Xy5En5+Pho06ZN+vvvv1WzZk29+eabWVEjAAAAAAA5ktOhfOfOnRo2bJjc3d3l7u6upKQkhYWFadKkSXrxxRezokYAAAAAAHIkp0O5h4eHbDabJCkoKEiHDh2SJAUGBtr/DAAAAAAAbszpe8qrV6+urVu3qmzZsmrcuLFefvllHT9+XJ988okqV66cFTUCAAAAAJAjOX2mfPz48QoJCZEkvfrqq8qfP7/69++v+Ph4vf/++y4vEAAAAACAnMqpM+XGGBUsWFCVKlWSJBUsWFDfffddlhQGAAAAAEBO59SZcmOMypQpo8OHD2dVPQAAAAAA3DWcCuVubm4qU6aMTpw4kVX1AAAAAABw13D6nvJJkybp+eef165du7KiHgAAAAAA7hpOz77+6KOP6vz586patao8PT3l4+PjsPzkyZMuKw4AAAAAgJzM6VA+derULCgDAAAAAIC7j9OhvFevXllRBwAAAAAAdx2n7ymXpAMHDuill15S165dFR8fL0lasWKFdu/e7dLiAAAAAADIyZwO5dHR0apcubJ+/vlnLVmyROfOnZMk/frrrxozZozLCwQAAAAAIKdyOpS/8MILGjdunKKiouTp6Wlvb9y4sX766SeXFgcAAAAAQE7mdCj/7bff9MADD6RrL1iwIM8vBwAAAADACU6H8jx58ujo0aPp2nfs2KHChQs7NdaECRN0zz33yN/fX4UKFVLHjh21b98+hz7GGEVGRio0NFQ+Pj5q1KgR964DAAAAAHIEp0N5t27dNGLECMXFxclmsyk1NVUbNmzQc889p549ezo1VnR0tAYOHKhNmzYpKipKly9fVosWLZSYmGjvM2nSJE2ePFkzZszQli1bFBwcrObNmyshIcHZ0gEAAAAAyFacfiTaa6+9pt69e6tw4cIyxqhixYpKSUlRt27d9NJLLzk11ooVKxzez549W4UKFdK2bdvUsGFDGWM0depUjRo1Sp06dZIkzZ07V0FBQZo/f76efPJJZ8sHAAAAACDbcDqUe3h4aN68eRo7dqx27Nih1NRUVa9eXWXKlLnlYs6cOSNJypcvnyQpJiZGcXFxatGihb2Pl5eXIiIitHHjxgxDeVJSkpKSkuzvz549e8t1AQAAAACQFZwO5dHR0YqIiFCpUqVUqlQplxVijNGzzz6r++67T+Hh4ZKkuLg4SVJQUJBD36CgIP39998ZjjNhwgS98sorLqsLAAAAAICs4vQ95c2bN1fRokX1wgsvaNeuXS4rZNCgQfr111+1YMGCdMtsNpvDe2NMurY0I0eO1JkzZ+yv2NhYl9UIAAAAAIArOR3Kjxw5ouHDh2vdunWqUqWKqlSpokmTJunw4cM3XcTTTz+tZcuWac2aNSpSpIi9PTg4WNL/nTFPEx8fn+7seRovLy8FBAQ4vAAAAAAAyI6cDuUFChTQoEGDtGHDBh04cEAPP/ywPv74YxUvXlxNmjRxaixjjAYNGqQlS5Zo9erVKlGihMPyEiVKKDg4WFFRUfa25ORkRUdHq169es6WDgAAAABAtuL0PeVXKlGihF544QVVrVpVo0ePVnR0tFOfHzhwoObPn6+vvvpK/v7+9jPigYGB8vHxkc1m05AhQzR+/HiVKVNGZcqU0fjx4+Xr66tu3brdSukAAAAAAFjupkP5hg0bNG/ePH3xxRe6ePGi2rdvr/Hjxzs1xsyZMyVJjRo1cmifPXu2evfuLUkaPny4Lly4oAEDBujUqVOqXbu2Vq5cKX9//5stHQAAAACAbMHpUP7iiy9qwYIFOnLkiJo1a6apU6eqY8eO8vX1dXrlxpgb9rHZbIqMjFRkZKTT4wMAAAAAkJ05HcrXrl2r5557Tg8//LAKFCjgsGznzp2qVq2aq2oDAAAAACBHczqUb9y40eH9mTNnNG/ePH344Yf65ZdflJKS4rLiAAAAAADIyZyefT3N6tWr9eijjyokJETTp09XmzZttHXrVlfWBgAAAABAjubUmfLDhw9rzpw5mjVrlhITE9WlSxddunRJixcvVsWKFbOqRgAAAAAAcqRMnylv06aNKlasqD179mj69Ok6cuSIpk+fnpW1AQAAAACQo2X6TPnKlSs1ePBg9e/fX2XKlMnKmgAAAAAAuCtk+kz5unXrlJCQoFq1aql27dqaMWOGjh07lpW1AQAAAACQo2U6lNetW1cffPCBjh49qieffFILFy5U4cKFlZqaqqioKCUkJGRlnQAAAAAA5DhOz77u6+urvn37av369frtt980bNgwvf766ypUqJDat2+fFTUCAAAAAJAj3fQj0SSpXLlymjRpkg4fPqwFCxa4qiYAAAAAAO4KtxTK07i7u6tjx45atmyZK4YDAAAAAOCu4JJQDgAAAAAAnEcoBwAAAADAIoRyAAAAAAAsQigHAAAAAMAihHIAAAAAACxCKAcAAAAAwCKEcgAAAAAALEIoBwAAAADAIoRyAAAAAAAsQigHAAAAAMAihHIAAAAAACxCKAcAAAAAwCKEcgAAAAAALEIoBwAAAADAIoRyAAAAAAAsQigHAAAAAMAihHIAAAAAACxCKAcAAAAAwCKEcgAAAAAALEIoBwAAAADAIoRyAAAAAAAsQigHAAAAAMAihHIAAAAAACxCKAcAAAAAwCKEcgAAAAAALEIoBwAAAADAIoRyAAAAAAAsQigHAAAAAMAihHIAAAAAACxCKAcAAAAAwCKEcgAAAAAALEIoBwAAAADAIoRyAAAAAAAsQigHAAAAAMAihHIAAAAAACxCKAcAAAAAwCKEcgAAAAAALEIoBwAAAADAIoRyAAAAAAAsQigHAAAAAMAihHIAAAAAACxCKAcAAAAAwCKEcgAAAAAALEIoBwAAAADAIoRyAAAAAAAsQigHAAAAAMAihHIAAAAAACxCKAcAAAAAwCKEcgAAAAAALEIoBwAAAADAIoRyAAAAAAAsYmko//HHH3X//fcrNDRUNptNS5cudVhujFFkZKRCQ0Pl4+OjRo0aaffu3dYUCwAAAACAi1kayhMTE1W1alXNmDEjw+WTJk3S5MmTNWPGDG3ZskXBwcFq3ry5EhISbnOlAAAAAAC4Xi4rV966dWu1bt06w2XGGE2dOlWjRo1Sp06dJElz585VUFCQ5s+fryeffDLDzyUlJSkpKcn+/uzZs64vHAAAAAAAF8i295THxMQoLi5OLVq0sLd5eXkpIiJCGzduvObnJkyYoMDAQPsrLCzsdpQLAAAAAIDTsm0oj4uLkyQFBQU5tAcFBdmXZWTkyJE6c+aM/RUbG5uldQIAAAAAcLMsvXw9M2w2m8N7Y0y6tit5eXnJy8srq8sCAAAAAOCWZdsz5cHBwZKU7qx4fHx8urPnAAAAAADcibJtKC9RooSCg4MVFRVlb0tOTlZ0dLTq1atnYWUAAAAAALiGpZevnzt3Tn/++af9fUxMjHbu3Kl8+fKpaNGiGjJkiMaPH68yZcqoTJkyGj9+vHx9fdWtWzcLqwYAAAAAwDUsDeVbt25V48aN7e+fffZZSVKvXr00Z84cDR8+XBcuXNCAAQN06tQp1a5dWytXrpS/v79VJQMAAAAA4DKWhvJGjRrJGHPN5TabTZGRkYqMjLx9RQEAAAAAcJtk23vKAQAAAADI6QjlAAAAAABYhFAOAAAAAIBFCOUAAAAAAFiEUA4AAAAAgEUI5QAAAAAAWIRQDgAAAACARQjlAAAAAABYhFAOAAAAAIBFCOUAAAAAAFiEUA4AAAAAgEUI5QAAAAAAWIRQDgAAAACARQjlAAAAAABYhFAOAAAAAIBFCOUAAAAAAFiEUA4AAAAAgEUI5QAAAAAAWIRQDgAAAACARQjlAAAAAABYhFAOAAAAAIBFCOUAAAAAAFiEUA4AAAAAgEUI5QAAAAAAWIRQDgAAAACARQjlAAAAAABYhFAOAAAAAIBFCOUAAAAAAFiEUA4AAAAAgEUI5QAAAAAAWIRQDgAAAACARQjlAAAAAABYhFAOAAAAAIBFCOUAAAAAAFiEUA4AAAAAgEUI5QAAAAAAWIRQDgAAAACARQjlAAAAAABYhFAOAAAAAIBFCOUAAAAAAFiEUA4AAAAAgEUI5QAAAAAAWIRQDgAAAACARQjlAAAAAABYhFAOAAAAAIBFCOUAAAAAAFiEUA4AAAAAgEUI5QAAAAAAWIRQDgAAAACARQjlAAAAAABYhFAOAAAAAIBFCOUAAAAAAFiEUA4AAAAAgEUI5QAAAAAAWIRQDgAAAACARQjlAAAAAABYhFAOAAAAAIBFCOUAAAAAAFiEUA4AAAAAgEUI5QAAAAAAWIRQDgAAAACARe6IUP7OO++oRIkS8vb2Vs2aNbVu3TqrSwIAAAAA4JZl+1C+aNEiDRkyRKNGjdKOHTvUoEEDtW7dWocOHbK6NAAAAAAAbkm2D+WTJ09Wv3799Nhjj6lChQqaOnWqwsLCNHPmTKtLAwAAAADgluSyuoDrSU5O1rZt2/TCCy84tLdo0UIbN27M8DNJSUlKSkqyvz9z5owk6ezZs1lX6HUknDtnyXpzogtJF60uIUdISb1sdQk5hlXHFatxXHMdjmuuwXHNdTiu4VZxXHMNjmuuY9VxLW29xpgb9s3Wofz48eNKSUlRUFCQQ3tQUJDi4uIy/MyECRP0yiuvpGsPCwvLkhoB3L0CAwOtLgEAXIrjGoCcxurjWkJCwg1ryNahPI3NZnN4b4xJ15Zm5MiRevbZZ+3vU1NTdfLkSeXPn/+anwFc4ezZswoLC1NsbKwCAgKsLgcAbhnHNQA5Dcc13C7GGCUkJCg0NPSGfbN1KC9QoIDc3d3TnRWPj49Pd/Y8jZeXl7y8vBza8uTJk1UlAukEBARwkAeQo3BcA5DTcFzD7ZDZs/TZeqI3T09P1axZU1FRUQ7tUVFRqlevnkVVAQAAAADgGtn6TLkkPfvss+rRo4dq1aqlunXr6v3339ehQ4f01FNPWV0aAAAAAAC3JNuH8ocfflgnTpzQ2LFjdfToUYWHh+u7775TsWLFrC4NcODl5aUxY8aku30CAO5UHNcA5DQc15Ad2Uxm5mgHAAAAAAAul63vKQcAAAAAICcjlAMAAAAAYBFCOQAAAAAAFiGUA1do1KiRhgwZYnUZAJAtXH1MLF68uKZOnWpZPQBwu0VGRqpatWr2971791bHjh0tqwc5U7affR0AAGQPW7ZskZ+fn9VlAACQoxDKARcxxiglJUW5cvG1ApAzFSxY0OoSAADIcbh8HbiGTz/9VLVq1ZK/v7+Cg4PVrVs3xcfH25evXbtWNptN33//vWrVqiUvLy+tW7dOCQkJ6t69u/z8/BQSEqIpU6akuwQ0OTlZw4cPV+HCheXn56fatWtr7dq1t38jAdyRGjVqpKefflpDhgxR3rx5FRQUpPfff1+JiYnq06eP/P39VapUKS1fvtz+mT179qhNmzbKnTu3goKC1KNHDx0/fty+PDExUT179lTu3LkVEhKit956K916r7x8/eDBg7LZbNq5c6d9+enTp2Wz2ezHsyuPk9WrV5ePj4+aNGmi+Ph4LV++XBUqVFBAQIC6du2q8+fPZ8m+ApCzfPHFF6pcubJ8fHyUP39+NWvWTImJifbLysePH6+goCDlyZNHr7zyii5fvqznn39e+fLlU5EiRTRr1iyH8UaMGKGyZcvK19dXJUuW1OjRo3Xp0iWLtg53K0I5cA3Jycl69dVX9csvv2jp0qWKiYlR79690/UbPny4JkyYoL1796pKlSp69tlntWHDBi1btkxRUVFat26dtm/f7vCZPn36aMOGDVq4cKF+/fVXPfTQQ2rVqpX2799/m7YOwJ1u7ty5KlCggDZv3qynn35a/fv310MPPaR69epp+/btatmypXr06KHz58/r6NGjioiIULVq1bR161atWLFC//77r7p06WIf7/nnn9eaNWv05ZdfauXKlVq7dq22bdvmklojIyM1Y8YMbdy4UbGxserSpYumTp2q+fPn69tvv1VUVJSmT5/uknUByLmOHj2qrl27qm/fvtq7d6/Wrl2rTp06yRgjSVq9erWOHDmiH3/8UZMnT1ZkZKTatWunvHnz6ueff9ZTTz2lp556SrGxsfYx/f39NWfOHO3Zs0fTpk3TBx98oClTpli1ibhbGQB2ERER5plnnslw2ebNm40kk5CQYIwxZs2aNUaSWbp0qb3P2bNnjYeHh/n888/tbadPnza+vr72cf/8809js9nMP//84zB+06ZNzciRI127QQBypIiICHPffffZ31++fNn4+fmZHj162NuOHj1qJJmffvrJjB492rRo0cJhjNjYWCPJ7Nu3zyQkJBhPT0+zcOFC+/ITJ04YHx8fh2NisWLFzJQpU4wxxsTExBhJZseOHfblp06dMpLMmjVrjDH/d5z84Ycf7H0mTJhgJJkDBw7Y25588knTsmXLW9klAO4C27ZtM5LMwYMH0y3r1auXKVasmElJSbG3lStXzjRo0MD+Pu1YuWDBgmuuY9KkSaZmzZr292PGjDFVq1Z1WE+HDh1ubUOAq3DzK3ANO3bsUGRkpHbu3KmTJ08qNTVVknTo0CFVrFjR3q9WrVr2P//111+6dOmS7r33XntbYGCgypUrZ3+/fft2GWNUtmxZh/UlJSUpf/78WbU5AHKYKlWq2P/s7u6u/Pnzq3Llyva2oKAgSVJ8fLy2bdumNWvWKHfu3OnGOXDggC5cuKDk5GTVrVvX3p4vXz6HY5erag0KCrJfJnpl2+bNm12yLgA5V9WqVdW0aVNVrlxZLVu2VIsWLdS5c2flzZtXklSpUiW5uf3fhcBBQUEKDw+3v087Vl55O+IXX3yhqVOn6s8//9S5c+d0+fJlBQQE3L6NAsREb0CGEhMT1aJFC7Vo0UKffvqpChYsqEOHDqlly5ZKTk526HvlTMTm/18+ZbPZHPqktUtSamqq3N3dtW3bNrm7uzv0y+g/zACQEQ8PD4f3NpvNoS3tOJSamqrU1FTdf//9mjhxYrpxQkJCburWmbT/+F55fLvWfZhX15VR7Wm/+ASAa3F3d1dUVJQ2btyolStXavr06Ro1apR+/vlnSTc+Lqa1pR1vNm3apEceeUSvvPKKWrZsqcDAQC1cuDDDOTWArEQoBzLw+++/6/jx43r99dcVFhYmSdq6desNP1eqVCl5eHho8+bN9s+dPXtW+/fvV0REhCSpevXqSklJUXx8vBo0aJB1GwEA/1+NGjW0ePFiFS9ePMMnRJQuXVoeHh7atGmTihYtKkk6deqU/vjjD/ux62ppM7EfPXpU1atXlySHSd8AICvYbDbVr19f9evX18svv6xixYrpyy+/vKmxNmzYoGLFimnUqFH2tr///ttVpQKZxkRvQAaKFi0qT09PTZ8+XX/99ZeWLVumV1999Yaf8/f3V69evewTJu3evVt9+/aVm5ub/axV2bJl1b17d/Xs2VNLlixRTEyMtmzZookTJ+q7777L6k0DcBcaOHCgTp48qa5du2rz5s3666+/tHLlSvXt21cpKSnKnTu3+vXrp+eff16rVq3Srl271Lt3b4fLQK/m4+OjOnXq6PXXX9eePXv0448/6qWXXrqNWwXgbvPzzz9r/Pjx2rp1qw4dOqQlS5bo2LFjqlChwk2NV7p0aR06dEgLFy7UgQMH9L///e+mAz5wKwjlQAYKFiyoOXPm6PPPP1fFihX1+uuv680338zUZydPnqy6deuqXbt2atasmerXr68KFSrI29vb3mf27Nnq2bOnhg0bpnLlyql9+/b6+eef7WfXAcCVQkNDtWHDBqWkpKhly5YKDw/XM888o8DAQHvwfuONN9SwYUO1b99ezZo103333aeaNWted9xZs2bp0qVLqlWrlp555hmNGzfudmwOgLtUQECAfvzxR7Vp00Zly5bVSy+9pLfeekutW7e+qfE6dOigoUOHatCgQapWrZo2btyo0aNHu7hq4MZs5sqbwQC4XGJiogoXLqy33npL/fr1s7ocAAAAANkI95QDLrZjxw79/vvvuvfee3XmzBmNHTtW0n+/jQUAAACAKxHKgSzw5ptvat++ffL09FTNmjW1bt06FShQwOqyAAAAAGQzXL4OAAAAAIBFmOgNAAAAAACLEMoBAAAAALAIoRwAAAAAAIsQygEAAAAAsAihHAAAAAAAixDKAQC4S8yZM0d58uSxugxJUu/evdWxY0erywAAwHKEcgAALNa7d2/ZbDY99dRT6ZYNGDBANptNvXv3vv2FXWXt2rWy2Ww6ffr0Dfu+9957qlq1qvz8/JQnTx5Vr15dEydOtC+fNm2a5syZk3XFAgBwhyCUAwCQDYSFhWnhwoW6cOGCve3ixYtasGCBihYtesvjX7p06ZbHyKyPPvpIzz77rAYPHqxffvlFGzZs0PDhw3Xu3Dl7n8DAwGxz1h4AACsRygEAyAZq1KihokWLasmSJfa2JUuWKCwsTNWrV3fou2LFCt13333KkyeP8ufPr3bt2unAgQP25QcPHpTNZtNnn32mRo0aydvbW59++mm6dZ44cUL33nuv2rdvr4sXL8oYo0mTJqlkyZLy8fFR1apV9cUXX9jHbNy4sSQpb9681z17//XXX6tLly7q16+fSpcurUqVKqlr16569dVX7X2uvHw9rd6rX40aNbL337hxoxo2bCgfHx+FhYVp8ODBSkxMdGofAwCQHRHKAQDIJvr06aPZs2fb38+aNUt9+/ZN1y8xMVHPPvustmzZolWrVsnNzU0PPPCAUlNTHfqNGDFCgwcP1t69e9WyZUuHZYcPH1aDBg1Uvnx5LVmyRN7e3nrppZc0e/ZszZw5U7t379bQoUP16KOPKjo6WmFhYVq8eLEkad++fTp69KimTZuW4XYEBwdr06ZN+vvvvzO13WFhYTp69Kj9tWPHDuXPn18NGzaUJP32229q2bKlOnXqpF9//VWLFi3S+vXrNWjQoEyNDwBAdmYzxhiriwAA4G7Wu3dvnT59Wh9++KGKFCmi33//XTabTeXLl1dsbKwee+wx5cmT55r3YB87dkyFChXSb7/9pvDwcB08eFAlSpTQ1KlT9cwzz9j7zZkzR0OGDNHmzZvVvHlzdejQQdOmTZPNZlNiYqIKFCig1atXq27duvbPPPbYYzp//rzmz5+vtWvXqnHjxjp16tR1Lz0/evSoOnXqpE2bNqls2bKqW7eu2rRpo86dO8vNzc1hm5cuXerw2YsXL6pRo0YqWLCgvvrqK7m5ualnz57y8fHRe++9Z++3fv16RUREKDExUd7e3s7vdAAAsolcVhcAAAD+U6BAAbVt21Zz586VMUZt27ZVgQIF0vU7cOCARo8erU2bNun48eP2M+SHDh1SeHi4vV+tWrXSffbChQu677771LVrV4cz3Xv27NHFixfVvHlzh/7JycnpLp+/kZCQEP3000/atWuXoqOjtXHjRvXq1UsffvihVqxYYQ/mGenXr58SEhIUFRVl77dt2zb9+eefmjdvnr2fMUapqamKiYlRhQoVnKoPAIDshFAOAEA20rdvX/tl2W+//XaGfe6//36FhYXpgw8+UGhoqFJTUxUeHq7k5GSHfn5+fuk+6+XlpWbNmunbb7/V888/ryJFikiSPdh/++23Kly4cLrP3Izw8HCFh4dr4MCBWr9+vRo0aKDo6Gj7velXGzdunFasWKHNmzfL39/f3p6amqonn3xSgwcPTvcZV0yCBwCAlQjlAABkI61atbKH66vvA5f+m5xt7969eu+999SgQQNJ/13KnVlubm765JNP1K1bNzVp0kRr165VaGioKlasKC8vLx06dEgREREZftbT01OSlJKS4uxmqWLFipJ0zcnZFi9erLFjx2r58uUqVaqUw7IaNWpo9+7dKl26tNPrBQAguyOUAwCQjbi7u2vv3r32P18tb968yp8/v95//32FhITo0KFDeuGFF5xex7x589S1a1d7MA8ODtZzzz2noUOHKjU1Vffdd5/Onj2rjRs3Knfu3OrVq5eKFSsmm82mb775Rm3atJGPj49y586dbvz+/fsrNDRUTZo0UZEiRXT06FGNGzdOBQsWdLhfPc2uXbvUs2dPjRgxQpUqVVJcXJyk/34JkC9fPo0YMUJ16tTRwIED9fjjj8vPz0979+5VVFSUpk+f7tS2AwCQ3TD7OgAA2UxAQIACAgIyXObm5qaFCxdq27ZtCg8P19ChQ/XGG284vY5cuXJpwYIFqlSpkpo0aaL4+Hi9+uqrevnllzVhwgRVqFBBLVu21Ndff60SJUpIkgoXLqxXXnlFL7zwgoKCgq45+3mzZs20adMmPfTQQypbtqwefPBBeXt7a9WqVcqfP3+6/lu3btX58+c1btw4hYSE2F+dOnWSJFWpUkXR0dHav3+/GjRooOrVq2v06NEKCQlxersBAMhumH0dAAAAAACLcKYcAAAAAACLEMoBAAAAALAIoRwAAAAAAIsQygEAAAAAsAihHAAAAAAAixDKAQAAAACwCKEcAAAAAACLEMoBAAAAALAIoRwAAAAAAIsQygEAAAAAsAihHAAAAAAAi/w/Gf4+b9I4E/8AAAAASUVORK5CYII=",
      "text/plain": [
       "<Figure size 1200x600 with 1 Axes>"
      ]
     },
     "metadata": {},
     "output_type": "display_data"
    }
   ],
   "source": [
    "# Create a bar plot to visualize the effect\n",
    "plt.figure(figsize=(12, 6))\n",
    "sns.barplot(data=sales_by_market_promotion, x='MarketSize', y='AvgSalesInThousands', hue='Promotion')\n",
    "plt.title('Effect of MarketSize on Sales for Different Promotions')\n",
    "plt.xlabel('Market Size')\n",
    "plt.ylabel('Average Sales (in thousands)')\n",
    "plt.legend(title='Promotion')\n",
    "plt.show()"
   ]
  },
  {
   "cell_type": "markdown",
   "metadata": {},
   "source": [
    "3.4.2 Anova Test MarketSize - Sales"
   ]
  },
  {
   "cell_type": "code",
   "execution_count": 22,
   "metadata": {},
   "outputs": [
    {
     "name": "stdout",
     "output_type": "stream",
     "text": [
      "ANOVA F-statistic: 123.62086519348784\n",
      "ANOVA p-value: 7.560500741527294e-44\n"
     ]
    }
   ],
   "source": [
    "# ANOVA Test (Is there a statistically significant difference between the means of sales for different MarketSizes)\n",
    "from scipy.stats import f_oneway\n",
    "\n",
    "# Split data by MarketSize\n",
    "small_sales = df_cleaned[df_cleaned['MarketSize'] == 'small']['SalesInThousands']\n",
    "medium_sales = df_cleaned[df_cleaned['MarketSize'] == 'medium']['SalesInThousands']\n",
    "large_sales = df_cleaned[df_cleaned['MarketSize'] == 'large']['SalesInThousands']\n",
    "\n",
    "# Perform ANOVA\n",
    "anova_result = f_oneway(small_sales, medium_sales, large_sales)\n",
    "\n",
    "print(f\"ANOVA F-statistic: {anova_result.statistic}\")\n",
    "print(f\"ANOVA p-value: {anova_result.pvalue}\")\n"
   ]
  },
  {
   "cell_type": "markdown",
   "metadata": {},
   "source": [
    "Conclusion: \n",
    "This suggests that the differences in sales across the MarketSize groups are not statistically significant. "
   ]
  },
  {
   "cell_type": "markdown",
   "metadata": {},
   "source": [
    "3.5 How does the Promotions effect the Sales"
   ]
  },
  {
   "cell_type": "markdown",
   "metadata": {},
   "source": [
    "3.5.1 Calculate the means"
   ]
  },
  {
   "cell_type": "code",
   "execution_count": 23,
   "metadata": {},
   "outputs": [
    {
     "name": "stdout",
     "output_type": "stream",
     "text": [
      "   Promotion AvgSalesInThousands\n",
      "0          1              51.813\n",
      "1          2            45.74892\n",
      "2          3           49.208782\n"
     ]
    }
   ],
   "source": [
    "# Calculate mean sales for each promotion\n",
    "sales_by_promotion = df_cleaned.groupby('Promotion')['SalesInThousands'].mean().reset_index()\n",
    "\n",
    "# Rename the column for clarity\n",
    "sales_by_promotion.rename(columns={'SalesInThousands': 'AvgSalesInThousands'}, inplace=True)\n",
    "\n",
    "print(sales_by_promotion)\n"
   ]
  },
  {
   "cell_type": "code",
   "execution_count": 24,
   "metadata": {},
   "outputs": [
    {
     "name": "stderr",
     "output_type": "stream",
     "text": [
      "C:\\Users\\Ellaine2\\AppData\\Local\\Temp\\ipykernel_26636\\1357035010.py:3: FutureWarning: \n",
      "\n",
      "Passing `palette` without assigning `hue` is deprecated and will be removed in v0.14.0. Assign the `x` variable to `hue` and set `legend=False` for the same effect.\n",
      "\n",
      "  sns.barplot(data=sales_by_promotion, x='Promotion', y='AvgSalesInThousands', palette='viridis')\n"
     ]
    },
    {
     "data": {
      "image/png": "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",
      "text/plain": [
       "<Figure size 1000x600 with 1 Axes>"
      ]
     },
     "metadata": {},
     "output_type": "display_data"
    }
   ],
   "source": [
    "# Bar plot for average sales by promotion\n",
    "plt.figure(figsize=(10, 6))\n",
    "sns.barplot(data=sales_by_promotion, x='Promotion', y='AvgSalesInThousands', palette='viridis')\n",
    "plt.title('Average Sales by Promotion')\n",
    "plt.xlabel('Promotion')\n",
    "plt.ylabel('Average Sales (in Thousands)')\n",
    "plt.show()"
   ]
  },
  {
   "cell_type": "code",
   "execution_count": 25,
   "metadata": {},
   "outputs": [
    {
     "name": "stderr",
     "output_type": "stream",
     "text": [
      "C:\\Users\\Ellaine2\\AppData\\Local\\Temp\\ipykernel_26636\\667245215.py:3: FutureWarning: \n",
      "\n",
      "Passing `palette` without assigning `hue` is deprecated and will be removed in v0.14.0. Assign the `x` variable to `hue` and set `legend=False` for the same effect.\n",
      "\n",
      "  sns.boxplot(data=df_cleaned, x='Promotion', y='SalesInThousands', palette='viridis')\n"
     ]
    },
    {
     "data": {
      "image/png": "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",
      "text/plain": [
       "<Figure size 1000x600 with 1 Axes>"
      ]
     },
     "metadata": {},
     "output_type": "display_data"
    }
   ],
   "source": [
    "# Box plot to visualize distribution of sales\n",
    "plt.figure(figsize=(10, 6))\n",
    "sns.boxplot(data=df_cleaned, x='Promotion', y='SalesInThousands', palette='viridis')\n",
    "plt.title('Sales Distribution by Promotion')\n",
    "plt.xlabel('Promotion')\n",
    "plt.ylabel('Sales (in Thousands)')\n",
    "plt.show()"
   ]
  },
  {
   "cell_type": "markdown",
   "metadata": {},
   "source": [
    "3.5.2 ANOVA Test - Promotion/Sales"
   ]
  },
  {
   "cell_type": "code",
   "execution_count": 26,
   "metadata": {},
   "outputs": [
    {
     "name": "stdout",
     "output_type": "stream",
     "text": [
      "ANOVA F-statistic: 11.237790038424349\n",
      "ANOVA p-value: 1.7093294053983664e-05\n"
     ]
    }
   ],
   "source": [
    "from scipy.stats import f_oneway\n",
    "\n",
    "# Split sales data by promotion\n",
    "promo_a_sales = df_cleaned[df_cleaned['Promotion'] == 1]['SalesInThousands']\n",
    "promo_b_sales = df_cleaned[df_cleaned['Promotion'] == 2]['SalesInThousands']\n",
    "promo_c_sales = df_cleaned[df_cleaned['Promotion'] == 3]['SalesInThousands']\n",
    "\n",
    "# Perform ANOVA\n",
    "anova_result = f_oneway(promo_a_sales, promo_b_sales, promo_c_sales)\n",
    "\n",
    "print(f\"ANOVA F-statistic: {anova_result.statistic}\")\n",
    "print(f\"ANOVA p-value: {anova_result.pvalue}\")\n"
   ]
  },
  {
   "cell_type": "markdown",
   "metadata": {},
   "source": [
    "Beacuse the p-value is below the normal threshold (0.05), ther is strong evidence that the promotions have significantly different effects on sales. However, it doesn't tell us which promotions differ. Thus, we need to do a post hoc test like Turkey, HSD. "
   ]
  },
  {
   "cell_type": "markdown",
   "metadata": {},
   "source": [
    "3.5.3 Tukey HSD Test "
   ]
  },
  {
   "cell_type": "code",
   "execution_count": 27,
   "metadata": {},
   "outputs": [
    {
     "name": "stdout",
     "output_type": "stream",
     "text": [
      "float64\n"
     ]
    },
    {
     "name": "stderr",
     "output_type": "stream",
     "text": [
      "C:\\Users\\Ellaine2\\AppData\\Local\\Temp\\ipykernel_26636\\2089594027.py:2: SettingWithCopyWarning: \n",
      "A value is trying to be set on a copy of a slice from a DataFrame.\n",
      "Try using .loc[row_indexer,col_indexer] = value instead\n",
      "\n",
      "See the caveats in the documentation: https://pandas.pydata.org/pandas-docs/stable/user_guide/indexing.html#returning-a-view-versus-a-copy\n",
      "  df_cleaned['SalesInThousands'] = pd.to_numeric(df_cleaned['SalesInThousands'], errors='coerce')\n"
     ]
    }
   ],
   "source": [
    "# Change the datatype from object to float to do the test\n",
    "df_cleaned['SalesInThousands'] = pd.to_numeric(df_cleaned['SalesInThousands'], errors='coerce')\n",
    "print(df_cleaned['SalesInThousands'].dtype)"
   ]
  },
  {
   "cell_type": "code",
   "execution_count": 28,
   "metadata": {},
   "outputs": [
    {
     "name": "stdout",
     "output_type": "stream",
     "text": [
      "Multiple Comparison of Means - Tukey HSD, FWER=0.05 \n",
      "====================================================\n",
      "group1 group2 meandiff p-adj   lower   upper  reject\n",
      "----------------------------------------------------\n",
      "     1      2  -6.0641    0.0 -9.1041 -3.0241   True\n",
      "     1      3  -2.6042 0.1236 -5.7294  0.5209  False\n",
      "     2      3   3.4599 0.0167   0.508  6.4118   True\n",
      "----------------------------------------------------\n"
     ]
    }
   ],
   "source": [
    "from statsmodels.stats.multicomp import pairwise_tukeyhsd\n",
    "\n",
    "# Tukey HSD Test\n",
    "tukey = pairwise_tukeyhsd(endog=df_cleaned['SalesInThousands'], groups=df_cleaned['Promotion'], alpha=0.05)\n",
    "print(tukey)"
   ]
  },
  {
   "cell_type": "markdown",
   "metadata": {},
   "source": [
    "Interpretation: \n",
    "- Promotion 1 and 3 outperforms Promotion 2 significantly\n",
    "- there is no signifanct differnce between Promotion 1 and 3\n",
    "- Promotion 2 significantly performs worse than Promotion 1 and 3\n",
    "\n",
    "Conclusion: \n",
    "\n",
    "The Fast Food Restaurant should focus on Promotion 1 and 3."
   ]
  },
  {
   "cell_type": "markdown",
   "metadata": {},
   "source": [
    "3.6 How does AgeOfStores effect the sales "
   ]
  },
  {
   "cell_type": "markdown",
   "metadata": {},
   "source": [
    "3.6.1 Boxplot "
   ]
  },
  {
   "cell_type": "code",
   "execution_count": 29,
   "metadata": {},
   "outputs": [
    {
     "data": {
      "image/png": "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",
      "text/plain": [
       "<Figure size 1000x600 with 1 Axes>"
      ]
     },
     "metadata": {},
     "output_type": "display_data"
    }
   ],
   "source": [
    "# Check how Age of Store effects the sales \n",
    "plt.figure(figsize=(10, 6))\n",
    "sns.boxplot(data=df_cleaned, x='AgeOfStore', y='SalesInThousands')\n",
    "plt.title('Relationship between Age of Store and Sales')\n",
    "plt.xlabel('Age of Store (years)')\n",
    "plt.ylabel('Sales (in Thousands)')\n",
    "plt.show()"
   ]
  },
  {
   "cell_type": "markdown",
   "metadata": {},
   "source": [
    "3.6.2 Group AgeOfStores into Age Groups"
   ]
  },
  {
   "cell_type": "code",
   "execution_count": 30,
   "metadata": {},
   "outputs": [
    {
     "name": "stderr",
     "output_type": "stream",
     "text": [
      "C:\\Users\\Ellaine2\\AppData\\Local\\Temp\\ipykernel_26636\\296497210.py:2: SettingWithCopyWarning: \n",
      "A value is trying to be set on a copy of a slice from a DataFrame.\n",
      "Try using .loc[row_indexer,col_indexer] = value instead\n",
      "\n",
      "See the caveats in the documentation: https://pandas.pydata.org/pandas-docs/stable/user_guide/indexing.html#returning-a-view-versus-a-copy\n",
      "  df_cleaned['AgeGroup'] = pd.cut(df_cleaned['AgeOfStore'], bins=[0, 5, 10, 15, 20, 30], labels=['0-5', '6-10', '11-15', '16-20', '21+'])\n",
      "C:\\Users\\Ellaine2\\AppData\\Local\\Temp\\ipykernel_26636\\296497210.py:6: FutureWarning: \n",
      "\n",
      "Passing `palette` without assigning `hue` is deprecated and will be removed in v0.14.0. Assign the `x` variable to `hue` and set `legend=False` for the same effect.\n",
      "\n",
      "  sns.boxplot(data=df_cleaned, x='AgeGroup', y='SalesInThousands', palette='viridis')\n"
     ]
    },
    {
     "data": {
      "image/png": "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",
      "text/plain": [
       "<Figure size 1000x600 with 1 Axes>"
      ]
     },
     "metadata": {},
     "output_type": "display_data"
    }
   ],
   "source": [
    "# Bin stores into age intervals\n",
    "df_cleaned['AgeGroup'] = pd.cut(df_cleaned['AgeOfStore'], bins=[0, 5, 10, 15, 20, 30], labels=['0-5', '6-10', '11-15', '16-20', '21+'])\n",
    "\n",
    "# Boxplot of sales by age group\n",
    "plt.figure(figsize=(10, 6))\n",
    "sns.boxplot(data=df_cleaned, x='AgeGroup', y='SalesInThousands', palette='viridis')\n",
    "plt.title('Sales by Age of Store Group')\n",
    "plt.xlabel('Store Age Group')\n",
    "plt.ylabel('Sales (in Thousands)')\n",
    "plt.show()\n"
   ]
  },
  {
   "cell_type": "markdown",
   "metadata": {},
   "source": [
    "3.6.3 Test for Correlation"
   ]
  },
  {
   "cell_type": "code",
   "execution_count": 31,
   "metadata": {},
   "outputs": [
    {
     "name": "stdout",
     "output_type": "stream",
     "text": [
      "Correlation between AgeOfStore and Sales: -0.011651241566484428\n"
     ]
    }
   ],
   "source": [
    "# Correlation\n",
    "correlation = df['AgeOfStore'].corr(df['SalesInThousands'])\n",
    "print(f\"Correlation between AgeOfStore and Sales: {correlation}\")\n"
   ]
  },
  {
   "cell_type": "markdown",
   "metadata": {},
   "source": [
    "Interpretation: \n",
    "- near 0 - little or no linaer relationship "
   ]
  },
  {
   "cell_type": "markdown",
   "metadata": {},
   "source": [
    "3.6.4 Linear Regression (AgeGroup/sales)"
   ]
  },
  {
   "cell_type": "code",
   "execution_count": 32,
   "metadata": {},
   "outputs": [
    {
     "name": "stdout",
     "output_type": "stream",
     "text": [
      "                            OLS Regression Results                            \n",
      "==============================================================================\n",
      "Dep. Variable:       SalesInThousands   R-squared:                       0.009\n",
      "Model:                            OLS   Adj. R-squared:                  0.007\n",
      "Method:                 Least Squares   F-statistic:                     4.439\n",
      "Date:                Sun, 17 Nov 2024   Prob (F-statistic):             0.0357\n",
      "Time:                        15:52:03   Log-Likelihood:                -1826.4\n",
      "No. Observations:                 472   AIC:                             3657.\n",
      "Df Residuals:                     470   BIC:                             3665.\n",
      "Df Model:                           1                                         \n",
      "Covariance Type:            nonrobust                                         \n",
      "==============================================================================\n",
      "                 coef    std err          t      P>|t|      [0.025      0.975]\n",
      "------------------------------------------------------------------------------\n",
      "const         47.2104      0.883     53.455      0.000      45.475      48.946\n",
      "AgeOfStore     0.1713      0.081      2.107      0.036       0.012       0.331\n",
      "==============================================================================\n",
      "Omnibus:                       17.442   Durbin-Watson:                   0.514\n",
      "Prob(Omnibus):                  0.000   Jarque-Bera (JB):               20.168\n",
      "Skew:                           0.392   Prob(JB):                     4.17e-05\n",
      "Kurtosis:                       3.641   Cond. No.                         18.0\n",
      "==============================================================================\n",
      "\n",
      "Notes:\n",
      "[1] Standard Errors assume that the covariance matrix of the errors is correctly specified.\n"
     ]
    }
   ],
   "source": [
    "#Linear Regression\n",
    "import statsmodels.api as sm\n",
    "\n",
    "# Independent (X) and dependent (y) variables\n",
    "X = df_cleaned['AgeOfStore']\n",
    "y = df_cleaned['SalesInThousands']\n",
    "\n",
    "# Add constant for intercept\n",
    "X = sm.add_constant(X)\n",
    "\n",
    "# Fit linear regression model\n",
    "model = sm.OLS(y, X).fit()\n",
    "\n",
    "# Summary of regression\n",
    "print(model.summary())\n"
   ]
  },
  {
   "cell_type": "markdown",
   "metadata": {},
   "source": [
    "The AgeOfStore variable has a statistically significant impact on SalesInThousands, but it only accounts for a small portion of the variation (indicated by a low R-squared value). This implies that other factors likely have a greater influence on sales. For instance: The use of Promotion as seen above. "
   ]
  },
  {
   "cell_type": "markdown",
   "metadata": {},
   "source": [
    "3.6.5 ANOVA Test - AgeGroup/Sales"
   ]
  },
  {
   "cell_type": "code",
   "execution_count": 33,
   "metadata": {},
   "outputs": [
    {
     "name": "stdout",
     "output_type": "stream",
     "text": [
      "ANOVA F-statistic: 6.467830957471123\n",
      "ANOVA p-value: 4.514830706553561e-05\n"
     ]
    }
   ],
   "source": [
    "from scipy.stats import f_oneway\n",
    "\n",
    "# Group sales by AgeGroup\n",
    "grouped_sales = [df_cleaned[df_cleaned['AgeGroup'] == age]['SalesInThousands'] for age in df_cleaned['AgeGroup'].unique()]\n",
    "\n",
    "# Perform ANOVA\n",
    "anova_result = f_oneway(*grouped_sales)\n",
    "print(f\"ANOVA F-statistic: {anova_result.statistic}\")\n",
    "print(f\"ANOVA p-value: {anova_result.pvalue}\")\n"
   ]
  },
  {
   "cell_type": "markdown",
   "metadata": {},
   "source": [
    "- null hypothesis: the mean sales are the same across all age groups \n",
    "- p-value is smaller than 0.05 - there is significant difference in sales between age groups "
   ]
  },
  {
   "cell_type": "markdown",
   "metadata": {},
   "source": [
    "3.6.6 Tukey HSD test (AgeGroup/Sales)"
   ]
  },
  {
   "cell_type": "code",
   "execution_count": 34,
   "metadata": {},
   "outputs": [
    {
     "name": "stdout",
     "output_type": "stream",
     "text": [
      " Multiple Comparison of Means - Tukey HSD, FWER=0.05 \n",
      "=====================================================\n",
      "group1 group2 meandiff p-adj   lower    upper  reject\n",
      "-----------------------------------------------------\n",
      "   0-5  11-15  -2.0876 0.6998  -6.5318  2.3566  False\n",
      "   0-5  16-20   1.7036 0.9481   -4.639  8.0463  False\n",
      "   0-5    21+   7.9511 0.0007   2.4935 13.4086   True\n",
      "   0-5   6-10  -1.7185 0.6422  -5.1338  1.6968  False\n",
      " 11-15  16-20   3.7912 0.5754  -3.2194 10.8019  False\n",
      " 11-15    21+  10.0386 0.0001   3.8173   16.26   True\n",
      " 11-15   6-10   0.3691 0.9995  -4.1678  4.9061  False\n",
      " 16-20    21+   6.2474 0.1727  -1.4457 13.9405  False\n",
      " 16-20   6-10  -3.4221 0.5875  -9.8301  2.9859  False\n",
      "   21+   6-10  -9.6695    0.0 -15.2029 -4.1361   True\n",
      "-----------------------------------------------------\n"
     ]
    }
   ],
   "source": [
    "# Conduct the Tukey HSD test\n",
    "import statsmodels.api as sm\n",
    "from statsmodels.stats.multicomp import pairwise_tukeyhsd\n",
    "\n",
    "# Perform the Tukey HSD test\n",
    "tukey_result = pairwise_tukeyhsd(endog=df_cleaned['SalesInThousands'],  # Data for which comparisons are being made\n",
    "                                 groups=df_cleaned['AgeGroup'],  # Grouping variable (AgeGroup)\n",
    "                                 alpha=0.05)  # Significance level\n",
    "\n",
    "# Print the Tukey test results\n",
    "print(tukey_result.summary())\n"
   ]
  },
  {
   "cell_type": "markdown",
   "metadata": {},
   "source": [
    "There are no significant differnces between the mayority of Age Groups and only the stores in the 21+ Age Group tend to have hicher sales. This may suggest that other factors influence the sales more than the Age Group. For Instance the Promation that was being used (see above)."
   ]
  },
  {
   "cell_type": "markdown",
   "metadata": {},
   "source": [
    "## 4. Conclusion "
   ]
  },
  {
   "cell_type": "markdown",
   "metadata": {},
   "source": [
    "The analysis revealed a significant difference in sales based on the type of promotions used. However, further investigation indicated that the AgeOfStore has a slight effect on sales, with older stores generally experiencing higher sales. In contrast, MarketSize was found to have no impact on sales."
   ]
  }
 ],
 "metadata": {
  "kernelspec": {
   "display_name": "analytics_kernel",
   "language": "python",
   "name": "analytics_kernel"
  },
  "language_info": {
   "codemirror_mode": {
    "name": "ipython",
    "version": 3
   },
   "file_extension": ".py",
   "mimetype": "text/x-python",
   "name": "python",
   "nbconvert_exporter": "python",
   "pygments_lexer": "ipython3",
   "version": "3.12.7"
  }
 },
 "nbformat": 4,
 "nbformat_minor": 2
}
